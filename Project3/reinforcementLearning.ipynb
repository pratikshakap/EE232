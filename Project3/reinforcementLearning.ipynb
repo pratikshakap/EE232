{
 "cells": [
  {
   "cell_type": "code",
   "execution_count": 1,
   "metadata": {
    "collapsed": true
   },
   "outputs": [],
   "source": [
    "import numpy as np\n",
    "import numpy as np; np.random.seed(0)\n",
    "import seaborn as sns; sns.set()\n",
    "import matplotlib.pyplot as plt\n",
    "import copy"
   ]
  },
  {
   "cell_type": "code",
   "execution_count": 2,
   "metadata": {},
   "outputs": [
    {
     "data": {
      "image/png": "[encoded data removed]",
      "text/plain": [
       "<matplotlib.figure.Figure at 0xc0f7d68>"
      ]
     },
     "metadata": {},
     "output_type": "display_data"
    }
   ],
   "source": [
    "#Q1 Heat map RF1\n",
    "rf1=np.zeros((10, 10))\n",
    "rf1[9,9]=10\n",
    "rf1\n",
    "\n",
    "ax = sns.heatmap(rf1)\n",
    "\n",
    "plt.show()"
   ]
  },
  {
   "cell_type": "code",
   "execution_count": 3,
   "metadata": {},
   "outputs": [
    {
     "name": "stdout",
     "output_type": "stream",
     "text": [
      "[[   0    0    0    0    0    0    0    0    0    0]\n",
      " [   0    0    0    0 -100 -100 -100    0    0    0]\n",
      " [   0    0    0    0 -100    0 -100    0    0    0]\n",
      " [   0    0    0    0 -100    0 -100 -100 -100    0]\n",
      " [   0    0    0    0 -100    0    0    0 -100    0]\n",
      " [   0    0    0    0 -100    0    0    0 -100    0]\n",
      " [   0    0    0    0 -100    0    0    0 -100    0]\n",
      " [   0    0    0    0    0    0 -100 -100 -100    0]\n",
      " [   0    0    0    0    0    0 -100    0    0    0]\n",
      " [   0    0    0    0    0    0    0    0    0   10]]\n"
     ]
    },
    {
     "data": {
      "image/png": "[encoded data removed]",
      "text/plain": [
       "<matplotlib.figure.Figure at 0xc49ca58>"
      ]
     },
     "metadata": {},
     "output_type": "display_data"
    }
   ],
   "source": [
    "#Q1 Heat map RF2\n",
    "\n",
    "#rf2=np.zeros((10, 10))\n",
    "\n",
    "\n",
    "rf2=np.matrix([[ 0,  0,  0,  0,  0,  0,  0,  0,  0,  0],\n",
    " [ 0,  0,  0,  0,  -100,  -100,  -100,  0,  0,  0],\n",
    " [ 0,  0,  0,  0,  -100,  0,  -100,  0,  0,  0],\n",
    " [ 0,  0,  0,  0,  -100,  0,  -100,  -100,  -100,  0],\n",
    " [ 0,  0,  0,  0,  -100,  0,  0,  0,  -100,  0],\n",
    " [ 0,  0,  0,  0,  -100,  0,  0,  0,  -100,  0],\n",
    " [ 0,  0,  0,  0,  -100,  0,  0,  0,  -100,  0],\n",
    " [ 0,  0,  0,  0,  0,  0,  -100,  -100,  -100,  0],\n",
    " [ 0,  0,  0,  0,  0,  0,  -100,  0,  0,  0],\n",
    " [ 0,  0,  0,  0,  0,  0,  0,  0,  0,  10]])\n",
    "\n",
    "print(rf2)\n",
    "ax = sns.heatmap(rf2)\n",
    "\n",
    "plt.show()"
   ]
  },
  {
   "cell_type": "code",
   "execution_count": 4,
   "metadata": {
    "collapsed": true
   },
   "outputs": [],
   "source": [
    "#state space\n",
    "ss = np.zeros(shape=(10,10))\n",
    "k=0\n",
    "for i in range(0,10):\n",
    "    for j in range(0,10):\n",
    "        ss[j][i]=k\n",
    "        k=k+1\n",
    "\n",
    "#action set\n",
    "action=(\"R\",\"L\",\"U\",\"D\")\n",
    "gamma=0.8"
   ]
  },
  {
   "cell_type": "code",
   "execution_count": 5,
   "metadata": {},
   "outputs": [
    {
     "data": {
      "text/plain": [
       "array([[  0.,  10.,  20.,  30.,  40.,  50.,  60.,  70.,  80.,  90.],\n",
       "       [  1.,  11.,  21.,  31.,  41.,  51.,  61.,  71.,  81.,  91.],\n",
       "       [  2.,  12.,  22.,  32.,  42.,  52.,  62.,  72.,  82.,  92.],\n",
       "       [  3.,  13.,  23.,  33.,  43.,  53.,  63.,  73.,  83.,  93.],\n",
       "       [  4.,  14.,  24.,  34.,  44.,  54.,  64.,  74.,  84.,  94.],\n",
       "       [  5.,  15.,  25.,  35.,  45.,  55.,  65.,  75.,  85.,  95.],\n",
       "       [  6.,  16.,  26.,  36.,  46.,  56.,  66.,  76.,  86.,  96.],\n",
       "       [  7.,  17.,  27.,  37.,  47.,  57.,  67.,  77.,  87.,  97.],\n",
       "       [  8.,  18.,  28.,  38.,  48.,  58.,  68.,  78.,  88.,  98.],\n",
       "       [  9.,  19.,  29.,  39.,  49.,  59.,  69.,  79.,  89.,  99.]])"
      ]
     },
     "execution_count": 5,
     "metadata": {},
     "output_type": "execute_result"
    }
   ],
   "source": [
    "ss"
   ]
  },
  {
   "cell_type": "code",
   "execution_count": 6,
   "metadata": {
    "collapsed": true
   },
   "outputs": [],
   "source": [
    "right= np.zeros(shape=(100,100))\n",
    "w=0.1\n",
    "for i in range(0,100):\n",
    "    if(i%10==0):\n",
    "        right[i][i]+=w/4\n",
    "    else:\n",
    "        right[i][i-1]=w/4\n",
    "    if(i-10<0):\n",
    "        right[i][i]+=w/4\n",
    "    else:\n",
    "        right[i][i-10]=w/4\n",
    "    if(i+10>99):\n",
    "        right[i][i]+=w/4\n",
    "    else:\n",
    "        right[i][i+10]=1-w+w/4\n",
    "    if((i+1)%10==0):\n",
    "        right[i][i]+=w/4\n",
    "    else:\n",
    "        right[i][i+1]=w/4\n",
    "    if(i+10>99):                      \n",
    "        right[i][i]+=1-w"
   ]
  },
  {
   "cell_type": "code",
   "execution_count": 8,
   "metadata": {
    "collapsed": true
   },
   "outputs": [],
   "source": [
    "up= np.zeros(shape=(100,100))\n",
    "w=0.1\n",
    "for i in range(0,100):\n",
    "    if(i%10==0):\n",
    "        up[i][i]+=w/4\n",
    "    else:\n",
    "        up[i][i-1]=1-w+w/4\n",
    "    if(i-10<0):\n",
    "        up[i][i]+=w/4\n",
    "    else:\n",
    "        up[i][i-10]=w/4\n",
    "    if(i+10>99):\n",
    "        up[i][i]+=w/4\n",
    "    else:\n",
    "        up[i][i+10]=w/4\n",
    "    if((i+1)%10==0):\n",
    "        up[i][i]+=w/4\n",
    "    else:\n",
    "        up[i][i+1]=w/4\n",
    "    if(i%10==0):                     \n",
    "        up[i][i]+=1-w\n",
    "    "
   ]
  },
  {
   "cell_type": "code",
   "execution_count": 9,
   "metadata": {
    "collapsed": true
   },
   "outputs": [],
   "source": [
    "left= np.zeros(shape=(100,100))\n",
    "w=0.1\n",
    "for i in range(0,100):\n",
    "    if(i%10==0):\n",
    "        left[i][i]+=w/4\n",
    "    else:\n",
    "        left[i][i-1]=w/4\n",
    "    if(i-10<0):\n",
    "        left[i][i]+=w/4\n",
    "    else:\n",
    "        left[i][i-10]=1-w+w/4\n",
    "    if(i+10>99):\n",
    "        left[i][i]+=w/4\n",
    "    else:\n",
    "        left[i][i+10]=w/4\n",
    "    if((i+1)%10==0):\n",
    "        left[i][i]+=w/4\n",
    "    else:\n",
    "        left[i][i+1]=w/4\n",
    "    if(i-10<0):                      \n",
    "        left[i][i]+=1-w\n",
    "    "
   ]
  },
  {
   "cell_type": "code",
   "execution_count": 10,
   "metadata": {
    "collapsed": true
   },
   "outputs": [],
   "source": [
    "down= np.zeros(shape=(100,100))\n",
    "w=0.1\n",
    "for i in range(0,100):\n",
    "    if(i%10==0):\n",
    "        down[i][i]+=w/4\n",
    "    else:\n",
    "        down[i][i-1]=w/4\n",
    "    if(i-10<0):\n",
    "        down[i][i]+=w/4\n",
    "    else:\n",
    "        down[i][i-10]=w/4\n",
    "    if(i+10>99):\n",
    "        down[i][i]+=w/4\n",
    "    else:\n",
    "        down[i][i+10]=w/4\n",
    "    if((i+1)%10==0):\n",
    "        down[i][i]+=w/4\n",
    "    else:\n",
    "        down[i][i+1]=1-w+w/4\n",
    "    if((i+1)%10==0):                      \n",
    "        down[i][i]+=1-w\n",
    "    "
   ]
  },
  {
   "cell_type": "code",
   "execution_count": 12,
   "metadata": {},
   "outputs": [
    {
     "data": {
      "text/plain": [
       "matrix([[   0,    0,    0,    0,    0,    0,    0,    0,    0,    0],\n",
       "        [   0,    0,    0,    0, -100, -100, -100,    0,    0,    0],\n",
       "        [   0,    0,    0,    0, -100,    0, -100,    0,    0,    0],\n",
       "        [   0,    0,    0,    0, -100,    0, -100, -100, -100,    0],\n",
       "        [   0,    0,    0,    0, -100,    0,    0,    0, -100,    0],\n",
       "        [   0,    0,    0,    0, -100,    0,    0,    0, -100,    0],\n",
       "        [   0,    0,    0,    0, -100,    0,    0,    0, -100,    0],\n",
       "        [   0,    0,    0,    0,    0,    0, -100, -100, -100,    0],\n",
       "        [   0,    0,    0,    0,    0,    0, -100,    0,    0,    0],\n",
       "        [   0,    0,    0,    0,    0,    0,    0,    0,    0,   10]])"
      ]
     },
     "execution_count": 12,
     "metadata": {},
     "output_type": "execute_result"
    }
   ],
   "source": [
    "rf2"
   ]
  },
  {
   "cell_type": "code",
   "execution_count": 13,
   "metadata": {
    "collapsed": true
   },
   "outputs": [],
   "source": [
    "def optimal_value(ss,action,w,gamma,reward_func,right,left,up,down):\n",
    "    v=np.zeros(100)\n",
    "    delta=3\n",
    "    r=np.asarray(np.transpose(reward_func)).reshape(-1)\n",
    "    while(delta>0.01):\n",
    "        delta=0\n",
    "        v1=np.copy(v)\n",
    "        for s in range(0,100):\n",
    "            temp=v1[s]\n",
    "            up_temp=np.sum(up[s]*(r+gamma*v1))\n",
    "            down_temp=np.sum(down[s]*(r+gamma*v1))\n",
    "            right_temp=np.sum(right[s]*(r+gamma*v1))\n",
    "            left_temp=np.sum(left[s]*(r+gamma*v1))\n",
    "            #print up_temp,\"  \",down_temp,\"  \",right_temp, \"  \",left_temp\n",
    "            v[s]=max(up_temp,down_temp,right_temp,left_temp)\n",
    "            delta=max(delta,abs(temp-v[s]))\n",
    "        #print delta\n",
    "    return v\n",
    "            \n",
    "    "
   ]
  },
  {
   "cell_type": "code",
   "execution_count": 14,
   "metadata": {
    "collapsed": true
   },
   "outputs": [],
   "source": [
    "def optimal_policy(ss,action,w,gamma,reward_func,right,left,up,down):\n",
    "    v=np.zeros(100)\n",
    "    delta=float(\"inf\")\n",
    "    r=np.asarray(np.transpose(reward_func)).reshape(-1)\n",
    "    policy=np.zeros(100)\n",
    "    arrows=np.zeros(100) # (\"R\",\"L\",\"U\",\"D\")\n",
    "    while(delta>0.01):\n",
    "        delta=0\n",
    "        v1=copy.copy(v)\n",
    "        for s in range(0,100):\n",
    "            temp=v1[s]\n",
    "            up_temp=np.sum(up[s]*(r+gamma*v1))\n",
    "            down_temp=np.sum(down[s]*(r+gamma*v1))\n",
    "            right_temp=np.sum(right[s]*(r+gamma*v1))\n",
    "            left_temp=np.sum(left[s]*(r+gamma*v1))\n",
    "            #print up_temp,\"  \",down_temp,\"  \",right_temp, \"  \",left_temp\n",
    "            v[s]=max(up_temp,down_temp,right_temp,left_temp)\n",
    "            delta=max(delta,abs(temp-v[s]))\n",
    "    for s in range(0,100):\n",
    "        up_temp=np.sum(up[s]*(r+gamma*v))\n",
    "        down_temp=np.sum(down[s]*(r+gamma*v))\n",
    "        right_temp=np.sum(right[s]*(r+gamma*v))\n",
    "        left_temp=np.sum(left[s]*(r+gamma*v))\n",
    "        arr=[right_temp,left_temp,up_temp,down_temp]\n",
    "        policy[s]=np.amax(arr)\n",
    "        arrows[s]=arr.index(np.amax(arr))\n",
    "    return policy,arrows\n",
    "        \n",
    "    "
   ]
  },
  {
   "cell_type": "code",
   "execution_count": 22,
   "metadata": {
    "scrolled": false
   },
   "outputs": [
    {
     "name": "stdout",
     "output_type": "stream",
     "text": [
      "[[  0.74809645   0.95482534   1.22216134   1.5615223    1.99211705\n",
      "    2.53840463   3.23138344   4.11032904   5.22501821   6.41164636]\n",
      " [  0.95482534   1.19311612   1.52949726   1.95884422   2.50598517\n",
      "    3.20326637   4.09195305   5.22380989   6.6453692    8.186723  ]\n",
      " [  1.22216134   1.52949726   1.95709262   2.50448368   3.20218519\n",
      "    4.09140937   5.224701     6.66804289   8.48669332  10.4991123 ]\n",
      " [  1.5615223    1.95884422   2.50448368   3.20213897   4.0913875\n",
      "    5.22473135   6.66914563   8.5092347   10.83505096  13.46372514]\n",
      " [  1.99211705   2.50598517   3.20218519   4.0913875    5.22473144\n",
      "    6.66917212   8.51009076  10.85579026  13.8288551   17.2638679 ]\n",
      " [  2.53840463   3.20326637   4.09140937   5.22473135   6.66917212\n",
      "    8.51010261  10.85635605  13.84638043  17.64494026  22.1354511 ]\n",
      " [  3.23138344   4.09195305   5.224701     6.66914563   8.51009076\n",
      "   10.85635605  13.84664791  17.65774808  22.5084073   28.38116324]\n",
      " [  4.11032904   5.22380989   6.66804289   8.5092347   10.85579026\n",
      "   13.84638043  17.65774808  22.51515438  28.70570965  36.38940227]\n",
      " [  5.22501821   6.6453692    8.48669332  10.83505096  13.8288551\n",
      "   17.64494026  22.5084073   28.70570965  36.60127736  46.65861033]\n",
      " [  6.41164636   8.186723    10.4991123   13.46372514  17.2638679\n",
      "   22.1354511   28.38116324  36.38940227  46.65861033  47.32853974]]\n"
     ]
    },
    {
     "data": {
      "image/png": "[encoded data removed]",
      "text/plain": [
       "<matplotlib.figure.Figure at 0xc236080>"
      ]
     },
     "metadata": {},
     "output_type": "display_data"
    }
   ],
   "source": [
    "#Question 2 and 3\n",
    "v=optimal_value(ss,action,w,gamma,rf1,right,left,up,down)\n",
    "v_new=np.transpose(v.reshape(10,10))\n",
    "\n",
    "print v_new\n",
    "ax = sns.heatmap(v_new)\n",
    "\n",
    "plt.show()"
   ]
  },
  {
   "cell_type": "code",
   "execution_count": 23,
   "metadata": {},
   "outputs": [
    {
     "name": "stdout",
     "output_type": "stream",
     "text": [
      "[[  6.46710402e-01   7.90798480e-01   8.20813046e-01   5.25100092e-01\n",
      "   -2.38647637e+00  -4.23692968e+00  -1.92337440e+00   1.12809691e+00\n",
      "    1.59116227e+00   2.03482701e+00]\n",
      " [  8.27724228e-01   1.01773259e+00   1.06157960e+00  -1.87921677e+00\n",
      "   -6.75466905e+00  -8.68371372e+00  -6.37348342e+00  -1.29836115e+00\n",
      "    1.92477470e+00   2.60689337e+00]\n",
      " [  1.06131226e+00   1.31300108e+00   1.44578824e+00  -1.63521080e+00\n",
      "   -6.75775652e+00  -1.39166346e+01  -9.65320172e+00  -5.51481504e+00\n",
      "   -1.34600438e-01   3.35547821e+00]\n",
      " [  1.35778625e+00   1.68918212e+00   1.94390703e+00  -1.24321750e+00\n",
      "   -6.33921636e+00  -7.98277134e+00  -7.94729165e+00  -9.43445243e+00\n",
      "   -1.91815510e+00   4.38704487e+00]\n",
      " [  1.73393379e+00   2.16807921e+00   2.58589509e+00  -7.36489716e-01\n",
      "   -5.84672738e+00  -3.25840283e+00  -3.24107127e+00  -7.43449847e+00\n",
      "    1.71515827e+00   9.15952421e+00]\n",
      " [  2.21111919e+00   2.77755323e+00   3.41334536e+00  -3.81397000e-02\n",
      "   -5.11411173e+00  -5.53379765e-01  -4.87536492e-01  -2.98351453e+00\n",
      "    6.58269181e+00   1.53537569e+01]\n",
      " [  2.81642901e+00   3.55296319e+00   4.47882378e+00   3.02435829e+00\n",
      "    2.48020939e+00   2.88015090e+00  -4.65522665e-01  -4.91054945e+00\n",
      "    1.26884635e+01   2.32963889e+01]\n",
      " [  3.58420160e+00   4.53918578e+00   5.79256872e+00   7.28842004e+00\n",
      "    6.71877276e+00   7.24110158e+00   9.30889950e-01   1.23664375e+01\n",
      "    2.11591651e+01   3.34825772e+01]\n",
      " [  4.55796714e+00   5.79470476e+00   7.39720343e+00   9.43945467e+00\n",
      "    1.20082007e+01   1.28891834e+01   1.70973448e+01   2.30139700e+01\n",
      "    3.37782513e+01   4.65287906e+01]\n",
      " [  5.72663251e+00   7.31607876e+00   9.38759574e+00   1.20446873e+01\n",
      "    1.54523553e+01   1.98239741e+01   2.54975058e+01   3.61575942e+01\n",
      "    4.65833827e+01   4.73114711e+01]]\n"
     ]
    },
    {
     "data": {
      "image/png": "[encoded data removed]",
      "text/plain": [
       "<matplotlib.figure.Figure at 0xd8c5048>"
      ]
     },
     "metadata": {},
     "output_type": "display_data"
    }
   ],
   "source": [
    "#Question 6 and 7\n",
    "v1=optimal_value(ss,action,w,gamma,rf2,right,left,up,down)\n",
    "v1_new=np.transpose(v1.reshape(10,10))\n",
    "\n",
    "print v1_new\n",
    "ax = sns.heatmap(v1_new)\n",
    "\n",
    "plt.show()"
   ]
  },
  {
   "cell_type": "code",
   "execution_count": 17,
   "metadata": {},
   "outputs": [
    {
     "name": "stdout",
     "output_type": "stream",
     "text": [
      "[[  0.75559112   0.96232015   1.22965618   1.56901717   1.99961192\n",
      "    2.54589951   3.23887832   4.11782392   5.23251308   6.41914124]\n",
      " [  0.96232015   1.20061093   1.53699212   1.96633909   2.51348004\n",
      "    3.21076124   4.09944793   5.23130476   6.65286408   8.19421787]\n",
      " [  1.22965618   1.53699212   1.96458749   2.51197855   3.20968006\n",
      "    4.09890425   5.23219587   6.67553776   8.4941882   10.50660718]\n",
      " [  1.56901717   1.96633909   2.51197855   3.20963385   4.09888237\n",
      "    5.23222622   6.6766405    8.51672958  10.84254583  13.47122002]\n",
      " [  1.99961192   2.51348004   3.20968006   4.09888237   5.23222631\n",
      "    6.676667     8.51758564  10.86328513  13.83634997  17.27136278]\n",
      " [  2.54589951   3.21076124   4.09890425   5.23222622   6.676667\n",
      "    8.51759748  10.86385093  13.85387531  17.65243513  22.14294598]\n",
      " [  3.23887832   4.09944793   5.23219587   6.6766405    8.51758564\n",
      "   10.86385093  13.85414278  17.66524295  22.51590217  28.38865811]\n",
      " [  4.11782392   5.23130476   6.67553776   8.51672958  10.86328513\n",
      "   13.85387531  17.66524295  22.52264926  28.71320453  36.39689715]\n",
      " [  5.23251308   6.65286408   8.4941882   10.84254583  13.83634997\n",
      "   17.65243513  22.51590217  28.71320453  36.60877224  46.66610521]\n",
      " [  6.41914124   8.19421787  10.50660718  13.47122002  17.27136278\n",
      "   22.14294598  28.38865811  36.39689715  46.66610521  47.33603461]]\n",
      "[ 3.  3.  3.  3.  3.  3.  3.  3.  0.  0.  0.  0.  3.  3.  3.  3.  0.  0.\n",
      "  0.  0.  0.  0.  0.  3.  3.  0.  0.  0.  0.  0.  0.  0.  0.  0.  0.  0.\n",
      "  0.  0.  0.  0.  0.  0.  0.  3.  0.  0.  0.  0.  0.  0.  0.  0.  3.  3.\n",
      "  3.  0.  0.  0.  0.  0.  0.  3.  3.  3.  3.  3.  0.  0.  0.  0.  0.  3.\n",
      "  3.  3.  3.  3.  3.  3.  0.  0.  3.  3.  3.  3.  3.  3.  3.  3.  0.  0.\n",
      "  3.  3.  3.  3.  3.  3.  3.  3.  3.  0.]\n"
     ]
    },
    {
     "data": {
      "image/png": "[encoded data removed]",
      "text/plain": [
       "<matplotlib.figure.Figure at 0xc6d3710>"
      ]
     },
     "metadata": {},
     "output_type": "display_data"
    }
   ],
   "source": [
    "#optimal policy\n",
    "v1,a1=optimal_policy(ss,action,w,gamma,rf1,right,left,up,down)\n",
    "v1=np.transpose(v1.reshape(10,10))\n",
    "\n",
    "\n",
    "print v1\n",
    "print a1\n",
    "ax = sns.heatmap(v1)\n",
    "\n",
    "plt.show()"
   ]
  },
  {
   "cell_type": "code",
   "execution_count": 18,
   "metadata": {},
   "outputs": [
    {
     "name": "stdout",
     "output_type": "stream",
     "text": [
      "[[  6.54200314e-01   7.98288554e-01   8.28303133e-01   5.32589793e-01\n",
      "   -2.37898743e+00  -4.22943945e+00  -1.91588403e+00   1.13558730e+00\n",
      "    1.59865267e+00   2.04231742e+00]\n",
      " [  8.35214417e-01   1.02522284e+00   1.06906988e+00  -1.87172669e+00\n",
      "   -6.74717934e+00  -8.67622370e+00  -6.36599305e+00  -1.29087075e+00\n",
      "    1.93226511e+00   2.61438378e+00]\n",
      " [  1.06880257e+00   1.32049143e+00   1.45327860e+00  -1.62772052e+00\n",
      "   -6.75026640e+00  -1.39091442e+01  -9.64571132e+00  -5.50732463e+00\n",
      "   -1.27110030e-01   3.36296862e+00]\n",
      " [  1.36527662e+00   1.69667250e+00   1.95139743e+00  -1.23572713e+00\n",
      "   -6.33172605e+00  -7.97528095e+00  -7.93980125e+00  -9.42696203e+00\n",
      "   -1.91066469e+00   4.39453527e+00]\n",
      " [  1.74142418e+00   2.17556961e+00   2.59338550e+00  -7.28999322e-01\n",
      "   -5.83923701e+00  -3.25091243e+00  -3.23358086e+00  -7.42700806e+00\n",
      "    1.72264868e+00   9.16701462e+00]\n",
      " [  2.21860959e+00   2.78504364e+00   3.42083577e+00  -3.06492958e-02\n",
      "   -5.10662133e+00  -5.45889357e-01  -4.80046084e-01  -2.97602413e+00\n",
      "    6.59018222e+00   1.53612473e+01]\n",
      " [  2.82391941e+00   3.56045360e+00   4.48631419e+00   3.03184870e+00\n",
      "    2.48769979e+00   2.88764131e+00  -4.58032256e-01  -4.90305904e+00\n",
      "    1.26959540e+01   2.33038793e+01]\n",
      " [  3.59169201e+00   4.54667619e+00   5.80005913e+00   7.29591045e+00\n",
      "    6.72626317e+00   7.24859199e+00   9.38380360e-01   1.23739279e+01\n",
      "    2.11666556e+01   3.34900676e+01]\n",
      " [  4.56545755e+00   5.80219517e+00   7.40469384e+00   9.44694508e+00\n",
      "    1.20156912e+01   1.28966738e+01   1.71048352e+01   2.30214604e+01\n",
      "    3.37857417e+01   4.65362810e+01]\n",
      " [  5.73412292e+00   7.32356917e+00   9.39508615e+00   1.20521777e+01\n",
      "    1.54598457e+01   1.98314646e+01   2.55049962e+01   3.61650846e+01\n",
      "    4.65908732e+01   4.73189615e+01]]\n",
      "[ 3.  3.  3.  3.  3.  3.  3.  3.  0.  0.  3.  3.  3.  3.  3.  3.  3.  3.\n",
      "  0.  0.  3.  3.  3.  3.  3.  3.  3.  3.  0.  0.  1.  1.  1.  1.  1.  1.\n",
      "  3.  3.  3.  0.  1.  1.  1.  1.  1.  1.  3.  3.  3.  0.  0.  2.  3.  3.\n",
      "  3.  3.  3.  3.  3.  0.  0.  0.  0.  3.  3.  3.  1.  1.  3.  0.  0.  0.\n",
      "  0.  2.  3.  1.  1.  3.  3.  0.  0.  0.  0.  0.  0.  0.  0.  3.  3.  0.\n",
      "  3.  3.  3.  3.  3.  3.  3.  3.  3.  0.]\n"
     ]
    },
    {
     "data": {
      "image/png": "[encoded data removed]",
      "text/plain": [
       "<matplotlib.figure.Figure at 0xc2c1518>"
      ]
     },
     "metadata": {},
     "output_type": "display_data"
    }
   ],
   "source": [
    "#optimal policy\n",
    "v2,a2=optimal_policy(ss,action,w,gamma,rf2,right,left,up,down)\n",
    "v2=np.transpose(v2.reshape(10,10))\n",
    "\n",
    "\n",
    "print v2\n",
    "print a2\n",
    "ax = sns.heatmap(v2)\n",
    "\n",
    "plt.show()"
   ]
  },
  {
   "cell_type": "code",
   "execution_count": 19,
   "metadata": {
    "collapsed": true
   },
   "outputs": [],
   "source": [
    " # (\"R\",\"L\",\"U\",\"D\")\n",
    "\n",
    "def getarrows(a):\n",
    "    #arrow=np.chararray(100)\n",
    "    arrow = [\"\" for x in range(100)]\n",
    "    for i in range(0,100):\n",
    "        if( a[i]==0):\n",
    "            arrow[i]=u'\\u2192'\n",
    "        elif(a[i]==1):\n",
    "            arrow[i]=u'\\u2190'\n",
    "        elif(a[i]==2):\n",
    "            arrow[i]=u'\\u2191'\n",
    "        elif(a[i]==3):\n",
    "            arrow[i]=u'\\u2193'\n",
    "    #print arrow\n",
    "    return arrow"
   ]
  },
  {
   "cell_type": "code",
   "execution_count": 20,
   "metadata": {},
   "outputs": [
    {
     "name": "stdout",
     "output_type": "stream",
     "text": [
      "[ 3.  3.  3.  3.  3.  3.  3.  3.  0.  0.  0.  0.  3.  3.  3.  3.  0.  0.\n",
      "  0.  0.  0.  0.  0.  3.  3.  0.  0.  0.  0.  0.  0.  0.  0.  0.  0.  0.\n",
      "  0.  0.  0.  0.  0.  0.  0.  3.  0.  0.  0.  0.  0.  0.  0.  0.  3.  3.\n",
      "  3.  0.  0.  0.  0.  0.  0.  3.  3.  3.  3.  3.  0.  0.  0.  0.  0.  3.\n",
      "  3.  3.  3.  3.  3.  3.  0.  0.  3.  3.  3.  3.  3.  3.  3.  3.  0.  0.\n",
      "  3.  3.  3.  3.  3.  3.  3.  3.  3.  0.]\n",
      "↓\t→\t→\t→\t→\t→\t→\t→\t↓\t↓\n",
      "↓\t→\t→\t→\t→\t→\t↓\t↓\t↓\t↓\n",
      "↓\t↓\t→\t→\t→\t↓\t↓\t↓\t↓\t↓\n",
      "↓\t↓\t↓\t→\t↓\t↓\t↓\t↓\t↓\t↓\n",
      "↓\t↓\t↓\t→\t→\t↓\t↓\t↓\t↓\t↓\n",
      "↓\t↓\t→\t→\t→\t→\t↓\t↓\t↓\t↓\n",
      "↓\t→\t→\t→\t→\t→\t→\t↓\t↓\t↓\n",
      "↓\t→\t→\t→\t→\t→\t→\t↓\t↓\t↓\n",
      "→\t→\t→\t→\t→\t→\t→\t→\t→\t↓\n",
      "→\t→\t→\t→\t→\t→\t→\t→\t→\t→\n"
     ]
    }
   ],
   "source": [
    "#Question 5\n",
    "print a1\n",
    "ar1=getarrows(a1)\n",
    "ar1=np.transpose(np.asarray(ar1).reshape(10,10))\n",
    "for i in range(0,10):\n",
    "    print reduce(lambda x,y : x+ \"\\t\" + y,ar1[i])"
   ]
  },
  {
   "cell_type": "code",
   "execution_count": 21,
   "metadata": {},
   "outputs": [
    {
     "name": "stdout",
     "output_type": "stream",
     "text": [
      "[ 3.  3.  3.  3.  3.  3.  3.  3.  0.  0.  3.  3.  3.  3.  3.  3.  3.  3.\n",
      "  0.  0.  3.  3.  3.  3.  3.  3.  3.  3.  0.  0.  1.  1.  1.  1.  1.  1.\n",
      "  3.  3.  3.  0.  1.  1.  1.  1.  1.  1.  3.  3.  3.  0.  0.  2.  3.  3.\n",
      "  3.  3.  3.  3.  3.  0.  0.  0.  0.  3.  3.  3.  1.  1.  3.  0.  0.  0.\n",
      "  0.  2.  3.  1.  1.  3.  3.  0.  0.  0.  0.  0.  0.  0.  0.  3.  3.  0.\n",
      "  3.  3.  3.  3.  3.  3.  3.  3.  3.  0.]\n",
      "↓\t↓\t↓\t←\t←\t→\t→\t→\t→\t↓\n",
      "↓\t↓\t↓\t←\t←\t↑\t→\t→\t→\t↓\n",
      "↓\t↓\t↓\t←\t←\t↓\t→\t→\t→\t↓\n",
      "↓\t↓\t↓\t←\t←\t↓\t↓\t↑\t→\t↓\n",
      "↓\t↓\t↓\t←\t←\t↓\t↓\t↓\t→\t↓\n",
      "↓\t↓\t↓\t←\t←\t↓\t↓\t←\t→\t↓\n",
      "↓\t↓\t↓\t↓\t↓\t↓\t←\t←\t→\t↓\n",
      "↓\t↓\t↓\t↓\t↓\t↓\t←\t↓\t↓\t↓\n",
      "→\t→\t→\t↓\t↓\t↓\t↓\t↓\t↓\t↓\n",
      "→\t→\t→\t→\t→\t→\t→\t→\t→\t→\n"
     ]
    }
   ],
   "source": [
    "#Question 9\n",
    "print a2\n",
    "ar2=getarrows(a2)\n",
    "ar2=np.transpose(np.asarray(ar2).reshape(10,10))\n",
    "for i in range(0,10):\n",
    "    print reduce(lambda x,y : x+ \"\\t\" + y,ar2[i])"
   ]
  }
 ],
 "metadata": {
  "kernelspec": {
   "display_name": "Python 2",
   "language": "python",
   "name": "python2"
  },
  "language_info": {
   "codemirror_mode": {
    "name": "ipython",
    "version": 2
   },
   "file_extension": ".py",
   "mimetype": "text/x-python",
   "name": "python",
   "nbconvert_exporter": "python",
   "pygments_lexer": "ipython2",
   "version": "2.7.14"
  }
 },
 "nbformat": 4,
 "nbformat_minor": 2
}
