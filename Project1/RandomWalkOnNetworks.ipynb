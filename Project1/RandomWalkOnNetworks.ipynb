{
 "cells": [
  {
   "cell_type": "code",
   "execution_count": 1,
   "metadata": {},
   "outputs": [
    {
     "name": "stderr",
     "output_type": "stream",
     "text": [
      "Warning message:\n",
      "\"package 'igraph' was built under R version 3.4.4\"\n",
      "Attaching package: 'igraph'\n",
      "\n",
      "The following objects are masked from 'package:stats':\n",
      "\n",
      "    decompose, spectrum\n",
      "\n",
      "The following object is masked from 'package:base':\n",
      "\n",
      "    union\n",
      "\n",
      "Warning message:\n",
      "\"package 'pracma' was built under R version 3.4.3\"\n",
      "Attaching package: 'pracma'\n",
      "\n",
      "The following objects are masked from 'package:Matrix':\n",
      "\n",
      "    expm, lu, tril, triu\n",
      "\n",
      "Warning message:\n",
      "\"package 'repr' was built under R version 3.4.4\""
     ]
    }
   ],
   "source": [
    "library('igraph')\n",
    "library('Matrix')\n",
    "library('pracma')\n",
    "library(repr)\n",
    "options(repr.plot.width=4,repr.plot.height=4)\n",
    "options(repr.hist.width=4,repr.hist.height=4)"
   ]
  },
  {
   "cell_type": "code",
   "execution_count": 62,
   "metadata": {},
   "outputs": [
    {
     "data": {
      "text/html": [
       "6"
      ],
      "text/latex": [
       "6"
      ],
      "text/markdown": [
       "6"
      ],
      "text/plain": [
       "[1] 6"
      ]
     },
     "metadata": {},
     "output_type": "display_data"
    }
   ],
   "source": [
    "#Q2.1.a\n",
    "set.seed(0)\n",
    "g <- erdos.renyi.game(1000, 0.01)\n",
    "diameter(g)"
   ]
  },
  {
   "cell_type": "code",
   "execution_count": 54,
   "metadata": {
    "collapsed": true
   },
   "outputs": [],
   "source": [
    "#Q2.1.b\n",
    "create_transition_matrix = function (g){\n",
    "    \n",
    "    # WARNING: make sure your graph is connected (you might input GCC of your graph)\n",
    "    \n",
    "    vs = V(g)\n",
    "    n = vcount(g)\n",
    "    adj = as_adjacency_matrix(g)\n",
    "    adj[diag(rowSums(adj) == 0)] = 1  # handle if the user is using the function for networks with isolated nodes by creating self-edges\n",
    "    z = matrix(rowSums(adj, , 1))\n",
    "    \n",
    "    transition_matrix = adj / repmat(z, 1, n)  # normalize to get probabilities\n",
    "    \n",
    "    return(transition_matrix)\n",
    "}\n"
   ]
  },
  {
   "cell_type": "code",
   "execution_count": 55,
   "metadata": {
    "collapsed": true
   },
   "outputs": [],
   "source": [
    "random_walk = function (g, num_steps, start_node, transition_matrix = NULL){\n",
    "    if(is.null(transition_matrix))\n",
    "        transition_matrix = create_transition_matrix(g)\n",
    "    \n",
    "    dist = c()\n",
    "    v = start_node\n",
    "    for(i in 1:num_steps){\n",
    "        #fprintf('Step %d: %d\\n', i, v)  # COMMENT THIS\n",
    "        PMF = transition_matrix[v, ]\n",
    "        v = sample(1:vcount(g), 1, prob = PMF)\n",
    "        dist[i] <- shortest.paths(g,start_node,v)\n",
    "    }\n",
    "    \n",
    "    return(dist)\n",
    "}"
   ]
  },
  {
   "cell_type": "code",
   "execution_count": 56,
   "metadata": {
    "collapsed": true
   },
   "outputs": [],
   "source": [
    "t<-100"
   ]
  },
  {
   "cell_type": "code",
   "execution_count": 57,
   "metadata": {
    "collapsed": true
   },
   "outputs": [],
   "source": [
    "distance_total<-seq(0,0,length.out=t)\n",
    "total_list <- list()\n",
    "t_arr<-seq(1,t,1)"
   ]
  },
  {
   "cell_type": "code",
   "execution_count": 58,
   "metadata": {
    "collapsed": true
   },
   "outputs": [],
   "source": [
    "for (i in seq(1,100,1)) {\n",
    "    v_start = sample(vcount(g), 1)\n",
    "    distance = random_walk(g, t, v_start)\n",
    "    total_list[[i]] <- distance \n",
    "    distance_total<-distance_total+distance   \n",
    "}\n",
    "distance_total<-distance_total/100"
   ]
  },
  {
   "cell_type": "code",
   "execution_count": 59,
   "metadata": {
    "collapsed": true
   },
   "outputs": [],
   "source": [
    "sd <- seq(0,0,length.out=t)\n",
    "for(i in seq(1,100,1)) {\n",
    "    sd<-sd+`^`(total_list[[i]]-distance_total,2)\n",
    "}\n",
    "sd<-sd/100"
   ]
  },
  {
   "cell_type": "code",
   "execution_count": 60,
   "metadata": {},
   "outputs": [
    {
     "data": {
      "image/png": "[encoded data removed]",
      "text/plain": [
       "Plot with title \"Plot of average distance v/s steps\""
      ]
     },
     "metadata": {},
     "output_type": "display_data"
    }
   ],
   "source": [
    "plot(t_arr,distance_total,type=\"l\",main=\"Plot of average distance v/s steps\", xlab=\"Steps t\", ylab=\"Average distance <s(t)>\")"
   ]
  },
  {
   "cell_type": "code",
   "execution_count": 61,
   "metadata": {},
   "outputs": [
    {
     "data": {
      "image/png": "[encoded data removed]",
      "text/plain": [
       "Plot with title \"Plot of standard deviation v/s steps\""
      ]
     },
     "metadata": {},
     "output_type": "display_data"
    }
   ],
   "source": [
    "plot(t_arr,sd,type=\"l\",main=\"Plot of standard deviation v/s steps\", xlab=\"Steps t\", ylab=\"Standard deviation\")"
   ]
  },
  {
   "cell_type": "code",
   "execution_count": 11,
   "metadata": {
    "collapsed": true
   },
   "outputs": [],
   "source": [
    "#2.1.c\n",
    "random_walk_deg = function (g, num_steps, start_node, transition_matrix = NULL){\n",
    "    if(is.null(transition_matrix))\n",
    "        transition_matrix = create_transition_matrix(g)\n",
    "    \n",
    "    dist = c()\n",
    "    v = start_node\n",
    "    for(i in 1:num_steps){\n",
    "        #fprintf('Step %d: %d\\n', i, v)  # COMMENT THIS\n",
    "        PMF = transition_matrix[v, ]\n",
    "        v = sample(1:vcount(g), 1, prob = PMF)\n",
    "    }\n",
    "    \n",
    "    return(degree(g,v))\n",
    "}"
   ]
  },
  {
   "cell_type": "code",
   "execution_count": 12,
   "metadata": {
    "collapsed": true
   },
   "outputs": [],
   "source": [
    "degree_list <- c()"
   ]
  },
  {
   "cell_type": "code",
   "execution_count": 13,
   "metadata": {
    "collapsed": true
   },
   "outputs": [],
   "source": [
    "for (i in seq(1,100,1)) {\n",
    "    v_start = sample(vcount(g), 1)\n",
    "    degree_list[i] = random_walk_deg(g, t, v_start)  \n",
    "}\n",
    "dg <- table(degree_list)/100"
   ]
  },
  {
   "cell_type": "code",
   "execution_count": 19,
   "metadata": {},
   "outputs": [
    {
     "data": {
      "image/png": "[encoded data removed]",
      "text/plain": [
       "Plot with title \"Degree distribution after random walk\""
      ]
     },
     "metadata": {},
     "output_type": "display_data"
    }
   ],
   "source": [
    "plot(dg,type=\"l\",main=\"Degree distribution after random walk\", xlab=\"Degree\", ylab=\"Frequency\")"
   ]
  },
  {
   "cell_type": "code",
   "execution_count": 20,
   "metadata": {},
   "outputs": [
    {
     "data": {
      "image/png": "[encoded data removed]",
      "text/plain": [
       "Plot with title \"Degree distribution of graph\""
      ]
     },
     "metadata": {},
     "output_type": "display_data"
    }
   ],
   "source": [
    "plot(degree.distribution(g),type=\"l\",main=\"Degree distribution of graph\", xlab=\"Degree\", ylab=\"Frequency\")"
   ]
  },
  {
   "cell_type": "code",
   "execution_count": 29,
   "metadata": {},
   "outputs": [
    {
     "data": {
      "image/png": "[encoded data removed]",
      "text/plain": [
       "Plot with title \"Degree after random walk\""
      ]
     },
     "metadata": {},
     "output_type": "display_data"
    }
   ],
   "source": [
    "hist(degree_list,main=\"Degree after random walk\", xlab=\"Degree\", ylab=\"#Nodes\")"
   ]
  },
  {
   "cell_type": "code",
   "execution_count": 30,
   "metadata": {},
   "outputs": [
    {
     "data": {
      "image/png": "[encoded data removed]",
      "text/plain": [
       "Plot with title \"Degree of graph\""
      ]
     },
     "metadata": {},
     "output_type": "display_data"
    }
   ],
   "source": [
    "hist(degree(g),main=\"Degree of graph\", xlab=\"Degree\", ylab=\"#Nodes\")"
   ]
  },
  {
   "cell_type": "code",
   "execution_count": 64,
   "metadata": {},
   "outputs": [
    {
     "data": {
      "text/html": [
       "10"
      ],
      "text/latex": [
       "10"
      ],
      "text/markdown": [
       "10"
      ],
      "text/plain": [
       "[1] 10"
      ]
     },
     "metadata": {},
     "output_type": "display_data"
    },
    {
     "data": {
      "text/html": [
       "100"
      ],
      "text/latex": [
       "100"
      ],
      "text/markdown": [
       "100"
      ],
      "text/plain": [
       "[1] 100"
      ]
     },
     "metadata": {},
     "output_type": "display_data"
    },
    {
     "data": {
      "text/html": [
       "TRUE"
      ],
      "text/latex": [
       "TRUE"
      ],
      "text/markdown": [
       "TRUE"
      ],
      "text/plain": [
       "[1] TRUE"
      ]
     },
     "metadata": {},
     "output_type": "display_data"
    },
    {
     "data": {
      "text/html": [
       "22"
      ],
      "text/latex": [
       "22"
      ],
      "text/markdown": [
       "22"
      ],
      "text/plain": [
       "[1] 22"
      ]
     },
     "metadata": {},
     "output_type": "display_data"
    },
    {
     "data": {
      "text/html": [
       "10"
      ],
      "text/latex": [
       "10"
      ],
      "text/markdown": [
       "10"
      ],
      "text/plain": [
       "[1] 10"
      ]
     },
     "metadata": {},
     "output_type": "display_data"
    }
   ],
   "source": [
    "#2.1.d\n",
    "set.seed(0)\n",
    "g1 <- erdos.renyi.game(100, 0.01)\n",
    "#diameter(g1)\n",
    "#a = is.connected(g1)\n",
    "#vcount(g1)\n",
    "if(a==FALSE) {\n",
    "        sub_graph <-induced.subgraph(g1,c(1:10))\n",
    "        g1.components <- clusters(g1)\n",
    "        ix <- which.max(g1.components$csize)\n",
    "        g1.giant <- induced.subgraph(g1, which(g.components$membership == ix))\n",
    "        gcc_size <- vcount(g1.giant)\n",
    "        g1=g1.giant\n",
    "    }\n",
    "#is.connected(g1)\n",
    "#vcount(g1)\n",
    "diameter(g1)\n",
    "\n",
    "distance_total_1<-seq(0,0,length.out=t)\n",
    "total_list_1 <- list()\n",
    "t_arr_1<-seq(1,t,1)\n",
    "\n",
    "for (i in seq(1,100,1)) {\n",
    "    v_start = sample(vcount(g1), 1)\n",
    "    distance = random_walk(g1, t, v_start)\n",
    "    total_list_1[[i]] <- distance \n",
    "    distance_total_1<-distance_total_1+distance   \n",
    "}\n",
    "distance_total_1<-distance_total_1/100\n",
    "\n",
    "sd_1 <- seq(0,0,length.out=t)\n",
    "for(i in seq(1,100,1)) {\n",
    "    sd_1<-sd_1+`^`(total_list_1[[i]]-distance_total_1,2)\n",
    "}\n",
    "sd_1<-sd_1/100"
   ]
  },
  {
   "cell_type": "code",
   "execution_count": 51,
   "metadata": {},
   "outputs": [
    {
     "data": {
      "text/html": [
       "TRUE"
      ],
      "text/latex": [
       "TRUE"
      ],
      "text/markdown": [
       "TRUE"
      ],
      "text/plain": [
       "[1] TRUE"
      ]
     },
     "metadata": {},
     "output_type": "display_data"
    }
   ],
   "source": [
    "is.connected(g1)"
   ]
  },
  {
   "cell_type": "code",
   "execution_count": 52,
   "metadata": {},
   "outputs": [
    {
     "data": {
      "image/png": "[encoded data removed]",
      "text/plain": [
       "Plot with title \"Plot of average distance v/s steps\""
      ]
     },
     "metadata": {},
     "output_type": "display_data"
    },
    {
     "data": {
      "image/png": "[encoded data removed]",
      "text/plain": [
       "Plot with title \"Plot of standard deviation v/s steps\""
      ]
     },
     "metadata": {},
     "output_type": "display_data"
    }
   ],
   "source": [
    "plot(t_arr_1,distance_total_1,type=\"l\",main=\"Plot of average distance v/s steps\", xlab=\"Steps t\", ylab=\"Average distance <s(t)>\")\n",
    "plot(t_arr_1,sd_1,type=\"l\",main=\"Plot of standard deviation v/s steps\", xlab=\"Steps t\", ylab=\"Standard deviation\")"
   ]
  },
  {
   "cell_type": "code",
   "execution_count": null,
   "metadata": {},
   "outputs": [
    {
     "data": {
      "text/html": [
       "3"
      ],
      "text/latex": [
       "3"
      ],
      "text/markdown": [
       "3"
      ],
      "text/plain": [
       "[1] 3"
      ]
     },
     "metadata": {},
     "output_type": "display_data"
    }
   ],
   "source": [
    "g2 <- erdos.renyi.game(10000, 0.01)\n",
    "diameter(g2)\n",
    "distance_total_2<-seq(0,0,length.out=t)\n",
    "total_list_2 <- list()\n",
    "t_arr_2<-seq(1,t,1)\n",
    "\n",
    "for (i in seq(1,100,1)) {\n",
    "    v_start = sample(vcount(g2), 1)\n",
    "    distance = random_walk(g2, t, v_start)\n",
    "    total_list_2[[i]] <- distance \n",
    "    distance_total_2<-distance_total_2+distance   \n",
    "}\n",
    "distance_total_2<-distance_total_2/100\n",
    "\n",
    "sd_2 <- seq(0,0,length.out=t)\n",
    "for(i in seq(1,100,1)) {\n",
    "    sd_2<-sd_2+`^`(total_list_2[[i]]-distance_total_2,2)\n",
    "}\n",
    "sd_2<-sd_2/100"
   ]
  },
  {
   "cell_type": "code",
   "execution_count": 28,
   "metadata": {},
   "outputs": [
    {
     "data": {
      "image/png": "[encoded data removed]",
      "text/plain": [
       "Plot with title \"Plot of average distance v/s steps\""
      ]
     },
     "metadata": {},
     "output_type": "display_data"
    },
    {
     "data": {
      "image/png": "[encoded data removed]",
      "text/plain": [
       "Plot with title \"Plot of standard deviation v/s steps\""
      ]
     },
     "metadata": {},
     "output_type": "display_data"
    }
   ],
   "source": [
    "plot(t_arr_2,distance_total_2,type=\"l\",main=\"Plot of average distance v/s steps\", xlab=\"Steps t\", ylab=\"Average distance <s(t)>\")\n",
    "plot(t_arr_2,sd_2,type=\"l\",main=\"Plot of standard deviation v/s steps\", xlab=\"Steps t\", ylab=\"Standard deviation\")"
   ]
  },
  {
   "cell_type": "code",
   "execution_count": 31,
   "metadata": {
    "collapsed": true
   },
   "outputs": [],
   "source": [
    "#Q2.2.a\n",
    "g3 <- barabasi.game(1000, m=1, directed=FALSE)\n",
    "t<-100\n",
    "\n",
    "#Q2.2.b\n",
    "distance_total_3<-seq(0,0,length.out=t)\n",
    "total_list_3 <- list()\n",
    "t_arr_3<-seq(1,t,1)\n",
    "\n",
    "for (i in seq(1,100,1)) {\n",
    "    v_start = sample(vcount(g3), 1)\n",
    "    distance = random_walk(g3, t, v_start)\n",
    "    total_list_3[[i]] <- distance \n",
    "    distance_total_3<-distance_total_3+distance   \n",
    "}\n",
    "\n",
    "distance_total_3<-distance_total_3/100\n",
    "\n",
    "sd_3 <- seq(0,0,length.out=t)\n",
    "for(i in seq(1,100,1)) {\n",
    "    sd_3<-sd_3+`^`(total_list_3[[i]]-distance_total_3,2)\n",
    "}\n",
    "\n",
    "sd_3<-sd_3/100"
   ]
  },
  {
   "cell_type": "code",
   "execution_count": 33,
   "metadata": {},
   "outputs": [
    {
     "data": {
      "image/png": "[encoded data removed]",
      "text/plain": [
       "Plot with title \"Plot of average distance v/s steps\""
      ]
     },
     "metadata": {},
     "output_type": "display_data"
    },
    {
     "data": {
      "image/png": "[encoded data removed]",
      "text/plain": [
       "Plot with title \"Plot of standard deviation v/s steps\""
      ]
     },
     "metadata": {},
     "output_type": "display_data"
    }
   ],
   "source": [
    "plot(t_arr_3,distance_total_3,type=\"l\",main=\"Plot of average distance v/s steps\", xlab=\"Steps t\", ylab=\"Average distance <s(t)>\")\n",
    "plot(t_arr_3,sd_3,type=\"l\",main=\"Plot of standard deviation v/s steps\", xlab=\"Steps t\", ylab=\"Standard deviation\")"
   ]
  },
  {
   "cell_type": "code",
   "execution_count": 34,
   "metadata": {
    "collapsed": true
   },
   "outputs": [],
   "source": [
    "#Q2.2.c\n",
    "degree_list_3 <- c()\n",
    "\n",
    "for (i in seq(1,100,1)) {\n",
    "    v_start = sample(vcount(g3), 1)\n",
    "    degree_list_3[i] = random_walk_deg(g3, t, v_start)  \n",
    "}\n",
    "\n",
    "dg_3 <- table(degree_list_3)/100"
   ]
  },
  {
   "cell_type": "code",
   "execution_count": 36,
   "metadata": {},
   "outputs": [
    {
     "data": {
      "image/png": "[encoded data removed]",
      "text/plain": [
       "Plot with title \"Degree distribution after random walk\""
      ]
     },
     "metadata": {},
     "output_type": "display_data"
    },
    {
     "data": {
      "image/png": "[encoded data removed]",
      "text/plain": [
       "Plot with title \"Degree distribution of graph\""
      ]
     },
     "metadata": {},
     "output_type": "display_data"
    }
   ],
   "source": [
    "plot(dg_3,type=\"l\",main=\"Degree distribution after random walk\", xlab=\"Degree\", ylab=\"Distribution\")\n",
    "plot(degree.distribution(g3),type=\"l\",main=\"Degree distribution of graph\", xlab=\"Degree\", ylab=\"Distribution\")"
   ]
  },
  {
   "cell_type": "code",
   "execution_count": 37,
   "metadata": {},
   "outputs": [
    {
     "data": {
      "image/png": "[encoded data removed]",
      "text/plain": [
       "Plot with title \"Plot of average distance v/s steps\""
      ]
     },
     "metadata": {},
     "output_type": "display_data"
    },
    {
     "data": {
      "image/png": "[encoded data removed]",
      "text/plain": [
       "Plot with title \"Plot of standard deviation v/s steps\""
      ]
     },
     "metadata": {},
     "output_type": "display_data"
    }
   ],
   "source": [
    "#2.2.d\n",
    "\n",
    "g4 <- barabasi.game(100, m=1, directed=FALSE)\n",
    "t<-100\n",
    "\n",
    "distance_total_4<-seq(0,0,length.out=t)\n",
    "total_list_4 <- list()\n",
    "t_arr_4<-seq(1,t,1)\n",
    "\n",
    "for (i in seq(1,100,1)) {\n",
    "    v_start = sample(vcount(g4), 1)\n",
    "    distance = random_walk(g4, t, v_start)\n",
    "    total_list_4[[i]] <- distance \n",
    "    distance_total_4<-distance_total_4+distance   \n",
    "}\n",
    "\n",
    "distance_total_4<-distance_total_4/100\n",
    "\n",
    "sd_4 <- seq(0,0,length.out=t)\n",
    "for(i in seq(1,100,1)) {\n",
    "    sd_4<-sd_4+`^`(total_list_4[[i]]-distance_total_4,2)\n",
    "}\n",
    "\n",
    "sd_4<-sd_4/100\n",
    "\n",
    "plot(t_arr_4,distance_total_4,type=\"l\",main=\"Plot of average distance v/s steps\", xlab=\"Steps t\", ylab=\"Average distance <s(t)>\")\n",
    "plot(t_arr_4,sd_4,type=\"l\",main=\"Plot of standard deviation v/s steps\", xlab=\"Steps t\", ylab=\"Standard deviation\")\n"
   ]
  },
  {
   "cell_type": "code",
   "execution_count": 38,
   "metadata": {},
   "outputs": [
    {
     "data": {
      "image/png": "[encoded data removed]",
      "text/plain": [
       "Plot with title \"Plot of average distance v/s steps\""
      ]
     },
     "metadata": {},
     "output_type": "display_data"
    },
    {
     "data": {
      "image/png": "[encoded data removed]",
      "text/plain": [
       "Plot with title \"Plot of standard deviation v/s steps\""
      ]
     },
     "metadata": {},
     "output_type": "display_data"
    }
   ],
   "source": [
    "#2.2.d\n",
    "\n",
    "g5 <- barabasi.game(10000, m=1, directed=FALSE)\n",
    "t<-100\n",
    "\n",
    "distance_total_5<-seq(0,0,length.out=t)\n",
    "total_list_5 <- list()\n",
    "t_arr_5<-seq(1,t,1)\n",
    "\n",
    "for (i in seq(1,100,1)) {\n",
    "    v_start = sample(vcount(g5), 1)\n",
    "    distance = random_walk(g5, t, v_start)\n",
    "    total_list_5[[i]] <- distance \n",
    "    distance_total_5<-distance_total_5+distance   \n",
    "}\n",
    "\n",
    "distance_total_5<-distance_total_5/100\n",
    "\n",
    "sd_5 <- seq(0,0,length.out=t)\n",
    "for(i in seq(1,100,1)) {\n",
    "    sd_5<-sd_5+`^`(total_list_5[[i]]-distance_total_5,2)\n",
    "}\n",
    "\n",
    "sd_5<-sd_5/100\n",
    "\n",
    "plot(t_arr_5,distance_total_5,type=\"l\",main=\"Plot of average distance v/s steps\", xlab=\"Steps t\", ylab=\"Average distance <s(t)>\")\n",
    "plot(t_arr_5,sd_5,type=\"l\",main=\"Plot of standard deviation v/s steps\", xlab=\"Steps t\", ylab=\"Standard deviation\")"
   ]
  },
  {
   "cell_type": "code",
   "execution_count": null,
   "metadata": {},
   "outputs": [],
   "source": []
  },
  {
   "cell_type": "code",
   "execution_count": null,
   "metadata": {
    "collapsed": true
   },
   "outputs": [],
   "source": []
  }
 ],
 "metadata": {
  "kernelspec": {
   "display_name": "R",
   "language": "R",
   "name": "ir"
  },
  "language_info": {
   "codemirror_mode": "r",
   "file_extension": ".r",
   "mimetype": "text/x-r-source",
   "name": "R",
   "pygments_lexer": "r",
   "version": "3.4.2"
  }
 },
 "nbformat": 4,
 "nbformat_minor": 2
}
