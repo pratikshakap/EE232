{
 "cells": [
  {
   "cell_type": "code",
   "execution_count": 3,
   "metadata": {
    "collapsed": true
   },
   "outputs": [],
   "source": [
    "from collections import defaultdict"
   ]
  },
  {
   "cell_type": "code",
   "execution_count": 4,
   "metadata": {
    "collapsed": true
   },
   "outputs": [],
   "source": [
    "def strprocess(movie):\n",
    "    movie = movie.lstrip().rstrip().split(\")\")[0]+\")\"\n",
    "    return movie"
   ]
  },
  {
   "cell_type": "code",
   "execution_count": 5,
   "metadata": {
    "collapsed": true
   },
   "outputs": [],
   "source": [
    "files = ['data/actor_movies.txt', 'data/actress_movies.txt']\n",
    "actor2movie = defaultdict(set)\n",
    "movie2actor = defaultdict(set)\n",
    "\n",
    "with open(\"data/merged.txt\",\"w\") as outfile:\n",
    "    for fname in files:\n",
    "        with open(fname,'r') as infile:\n",
    "            for line in infile:\n",
    "                words = line.split(\"\\t\\t\")\n",
    "                if(len(words)>=11):\n",
    "                    outfile.write(line)\n",
    "                    actor = words[0]\n",
    "                    movies = words[1:]\n",
    "                    for m in movies:\n",
    "                        m1 = strprocess(m)\n",
    "                        actor2movie[actor].add(m1)\n",
    "                        movie2actor[m1].add(actor)\n",
    "    outfile.close()\n",
    "                    "
   ]
  },
  {
   "cell_type": "code",
   "execution_count": 4,
   "metadata": {},
   "outputs": [
    {
     "data": {
      "text/plain": [
       "113129"
      ]
     },
     "execution_count": 4,
     "metadata": {},
     "output_type": "execute_result"
    }
   ],
   "source": [
    "len(actor2movie)"
   ]
  },
  {
   "cell_type": "code",
   "execution_count": 5,
   "metadata": {},
   "outputs": [
    {
     "data": {
      "text/plain": [
       "468192"
      ]
     },
     "execution_count": 5,
     "metadata": {},
     "output_type": "execute_result"
    }
   ],
   "source": [
    "len(movie2actor)"
   ]
  },
  {
   "cell_type": "code",
   "execution_count": 32,
   "metadata": {
    "collapsed": true
   },
   "outputs": [],
   "source": [
    "edges=0\n",
    "with open(\"data/edgelist.txt\",\"w\") as out:\n",
    "    for actor, movielist in actor2movie.iteritems():\n",
    "        #store common movies with co-actors for each actor\n",
    "        a2c = defaultdict(int)\n",
    "        for m in movielist:\n",
    "            for coactor in movie2actor[m]:\n",
    "                a2c[coactor] = a2c[coactor]+1\n",
    "        for c,val in a2c.iteritems():\n",
    "            w = float(val)/len(movielist)\n",
    "            if(actor!=c):\n",
    "                out.write(\"%s\\t%s\\t%f\\n\"%(actor,c,w))\n",
    "                edges = edges+1\n",
    "    out.close()"
   ]
  },
  {
   "cell_type": "code",
   "execution_count": 33,
   "metadata": {},
   "outputs": [
    {
     "data": {
      "text/plain": [
       "35479418"
      ]
     },
     "execution_count": 33,
     "metadata": {},
     "output_type": "execute_result"
    }
   ],
   "source": [
    "edges"
   ]
  },
  {
   "cell_type": "code",
   "execution_count": 19,
   "metadata": {},
   "outputs": [
    {
     "name": "stdout",
     "output_type": "stream",
     "text": [
      "('Flowers, Bess', 828)\n",
      "('Tatasciore, Fred', 353)\n",
      "('Harris, Sam (II)', 600)\n",
      "('Blum, Steve (IX)', 373)\n",
      "('Miller, Harold (I)', 561)\n",
      "('Jeremy, Ron', 637)\n",
      "('Phelps, Lee (I)', 647)\n",
      "('Lowenthal, Yuri', 317)\n",
      "('Downes, Robin Atkin', 267)\n",
      "(\"O'Connor, Frank (I)\", 623)\n"
     ]
    }
   ],
   "source": [
    "#Q4\n",
    "vlist4 = [\"Flowers, Bess\", \"Tatasciore, Fred\", \"Harris, Sam (II)\", \n",
    "         \"Blum, Steve (IX)\", \"Miller, Harold (I)\", \"Jeremy, Ron\", \n",
    "         \"Phelps, Lee (I)\", \"Lowenthal, Yuri\", \"Downes, Robin Atkin\", \"O'Connor, Frank (I)\"]\n",
    "\n",
    "for v in vlist4:\n",
    "    print(v, len(actor2movie[v]))"
   ]
  },
  {
   "cell_type": "code",
   "execution_count": 25,
   "metadata": {},
   "outputs": [
    {
     "name": "stdout",
     "output_type": "stream",
     "text": [
      "('Cruise, Tom', 63)\n",
      "('Watson, Emma (II)', 25)\n",
      "('Clooney, George', 67)\n",
      "('Hanks, Tom', 79)\n",
      "('Johnson, Dwayne (I)', 78)\n",
      "('Depp, Johnny', 98)\n",
      "('Smith, Will (I)', 49)\n",
      "('Streep, Meryl', 97)\n",
      "('DiCaprio, Leonardo', 49)\n",
      "('Pitt, Brad', 71)\n"
     ]
    }
   ],
   "source": [
    "#Q5\n",
    "vlist3 = [\"Cruise, Tom\", \"Watson, Emma (II)\", \"Clooney, George\", \"Hanks, Tom\", \"Johnson, Dwayne (I)\", \"Depp, Johnny\", \"Smith, Will (I)\", \"Streep, Meryl\", \"DiCaprio, Leonardo\", \"Pitt, Brad\"]\n",
    "\n",
    "for v in vlist3:\n",
    "    print(v, len(actor2movie[v]))"
   ]
  },
  {
   "cell_type": "code",
   "execution_count": null,
   "metadata": {
    "collapsed": true
   },
   "outputs": [],
   "source": []
  }
 ],
 "metadata": {
  "kernelspec": {
   "display_name": "Python 2",
   "language": "python",
   "name": "python2"
  },
  "language_info": {
   "codemirror_mode": {
    "name": "ipython",
    "version": 2
   },
   "file_extension": ".py",
   "mimetype": "text/x-python",
   "name": "python",
   "nbconvert_exporter": "python",
   "pygments_lexer": "ipython2",
   "version": "2.7.13"
  }
 },
 "nbformat": 4,
 "nbformat_minor": 2
}
