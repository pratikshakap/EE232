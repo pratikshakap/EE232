{
 "cells": [
  {
   "cell_type": "code",
   "execution_count": 3,
   "metadata": {
    "collapsed": true
   },
   "outputs": [],
   "source": [
    "from collections import defaultdict\n",
    "import numpy as np"
   ]
  },
  {
   "cell_type": "code",
   "execution_count": 4,
   "metadata": {
    "collapsed": true
   },
   "outputs": [],
   "source": [
    "\n",
    "# helper function that computes jaccard index of two set# helper \n",
    "def edge_weight(first_set, second_set):\n",
    "    \"\"\" Computes edge_weight of two sets\n",
    "        Arguments:\n",
    "          first_set(set):\n",
    "          second_set(set):\n",
    "        Returns:\n",
    "          index(float): edge_weight between two movies in movie network; it is between 0.0 and 1.0\n",
    "    \"\"\"\n",
    "    index = 1.0\n",
    "    if first_set or second_set:\n",
    "        index = (float(len(first_set.intersection(second_set))) / len(first_set.union(second_set)))\n",
    "\n",
    "    return index"
   ]
  },
  {
   "cell_type": "code",
   "execution_count": 21,
   "metadata": {
    "collapsed": true
   },
   "outputs": [],
   "source": [
    "actor2movie=defaultdict(set)\n",
    "movie2actor=defaultdict(set)\n",
    "\n",
    "filenames = ['actor_movies.txt', 'actress_movies.txt']\n",
    "#with open('C:/Users/ektam/Desktop/Ekta/Subjects/Q3/EE232/Project4/project4_data/merged.txt', 'w') as outfile:\n",
    "#with open('C:/Users/ektam/Desktop/Ekta/Subjects/Q3/EE232/Project4/project4_data/merged.txt', 'w') as outfile:\n",
    "for fname in filenames:\n",
    "    with open(fname) as infile:\n",
    "        for line in infile:\n",
    "            #words=line.split(\"\\t\\t\")\n",
    "            if(line.count(\"\\t\\t\")>10):\n",
    "                #line=line.strip()\n",
    "                words=line.strip().split(\"\\t\\t\")\n",
    "                actor=(words[0]).replace(\" \",\"\")\n",
    "                movielist=words[1:]\n",
    "                for m in movielist:\n",
    "                    m=m.split(\")\")[0].replace(\" \",\"\")\n",
    "                    actor2movie[actor].add(m+\")\")\n",
    "                    movie2actor[m+\")\"].add(actor)\n",
    "                    "
   ]
  },
  {
   "cell_type": "code",
   "execution_count": 22,
   "metadata": {
    "collapsed": true
   },
   "outputs": [],
   "source": [
    "#To consider only movies with at least 5 actors/actresses\n",
    "movie2actor = {movie : actors for (movie, actors) in movie2actor.iteritems() if len(actors) > 4}"
   ]
  },
  {
   "cell_type": "code",
   "execution_count": 23,
   "metadata": {},
   "outputs": [
    {
     "data": {
      "text/plain": [
       "197377"
      ]
     },
     "execution_count": 23,
     "metadata": {},
     "output_type": "execute_result"
    }
   ],
   "source": [
    "#To maintain consistency in a2m\n",
    "clean_movies=set(filter(lambda x :len(movie2actor[x])>4, movie2actor.keys()))\n",
    "len(clean_movies)"
   ]
  },
  {
   "cell_type": "code",
   "execution_count": 24,
   "metadata": {},
   "outputs": [
    {
     "data": {
      "text/plain": [
       "101128"
      ]
     },
     "execution_count": 24,
     "metadata": {},
     "output_type": "execute_result"
    }
   ],
   "source": [
    "actor2movie = {actor : movies.intersection(clean_movies) for (actor, movies) in actor2movie.iteritems()}\n",
    "len(actor2movie)"
   ]
  },
  {
   "cell_type": "code",
   "execution_count": 8,
   "metadata": {
    "collapsed": true
   },
   "outputs": [],
   "source": [
    "#create and dump pickles for these 2 dictionaries\n",
    "import pickle\n",
    "\n",
    "\n",
    "pickle.dump(actor2movie, open(\"actor2movie.pkl\", \"wb\" ))\n",
    "\n",
    "\n"
   ]
  },
  {
   "cell_type": "code",
   "execution_count": 25,
   "metadata": {
    "collapsed": true
   },
   "outputs": [],
   "source": [
    "pickle.dump(movie2actor, open(\"movie2actor.pkl\", \"wb\" ))"
   ]
  },
  {
   "cell_type": "code",
   "execution_count": 26,
   "metadata": {
    "collapsed": true
   },
   "outputs": [],
   "source": [
    "A2M = pickle.load(open(\"actor2movie.pkl\", \"rb\" ))\n",
    "M2A = pickle.load(open(\"movie2actor.pkl\", \"rb\" ))"
   ]
  },
  {
   "cell_type": "code",
   "execution_count": 27,
   "metadata": {},
   "outputs": [
    {
     "data": {
      "text/plain": [
       "101128"
      ]
     },
     "execution_count": 27,
     "metadata": {},
     "output_type": "execute_result"
    }
   ],
   "source": [
    "len(A2M)"
   ]
  },
  {
   "cell_type": "code",
   "execution_count": 28,
   "metadata": {},
   "outputs": [
    {
     "data": {
      "text/plain": [
       "197377"
      ]
     },
     "execution_count": 28,
     "metadata": {},
     "output_type": "execute_result"
    }
   ],
   "source": [
    "len(M2A)"
   ]
  },
  {
   "cell_type": "code",
   "execution_count": 29,
   "metadata": {
    "collapsed": true
   },
   "outputs": [],
   "source": [
    "moviemap={}\n",
    "actormap={}\n",
    "i=0\n",
    "for m  in M2A.keys():\n",
    "    moviemap[m]=i\n",
    "    i=i+1\n",
    "i=0\n",
    "for a in A2M.keys():\n",
    "    actormap[a]=i\n",
    "    i=i+1"
   ]
  },
  {
   "cell_type": "code",
   "execution_count": 31,
   "metadata": {},
   "outputs": [
    {
     "name": "stdout",
     "output_type": "stream",
     "text": [
      "65933286\n"
     ]
    }
   ],
   "source": [
    "# create movie edge list for movie with at least 4 actors/actresses\n",
    "count = 0\n",
    "outfile = open(\"imdb_edgelist.txt\", \"w\")\n",
    "#outfile = open(\"temp1.txt\", \"w\") with tab\n",
    "#outfile = open(\"temp2.txt\", \"w\")\n",
    "stopper=0\n",
    "processed_movie = set()\n",
    "for i, actors in movie2actor.iteritems():\n",
    "    # for a movie i, get the list of movies that share some actors\n",
    "    #if stopper>5:\n",
    "     #   break\n",
    "    #stopper=stopper+1\n",
    "    unique_movies = set()\n",
    "    for j in actors:\n",
    "        #print i\n",
    "        #print actors\n",
    "        #print j\n",
    "        for k in actor2movie[j]:\n",
    "            if k in processed_movie:\n",
    "                continue\n",
    "            weight = edge_weight(actors, movie2actor[k])\n",
    "            unique_movies.add( (k, weight) )\n",
    "    for (k, weight) in unique_movies:\n",
    "        line = str(moviemap[i]) + '\\t' + str(moviemap[k]) + '\\t' + str( \"%.3f\" % weight) +'\\n'\n",
    "        outfile.write(line)\n",
    "        count = count + 1\n",
    "    processed_movie.add(i)\n",
    "outfile.close()\n",
    "print(count)"
   ]
  },
  {
   "cell_type": "code",
   "execution_count": null,
   "metadata": {
    "collapsed": true
   },
   "outputs": [],
   "source": []
  }
 ],
 "metadata": {
  "kernelspec": {
   "display_name": "Python 2",
   "language": "python",
   "name": "python2"
  },
  "language_info": {
   "codemirror_mode": {
    "name": "ipython",
    "version": 2
   },
   "file_extension": ".py",
   "mimetype": "text/x-python",
   "name": "python",
   "nbconvert_exporter": "python",
   "pygments_lexer": "ipython2",
   "version": "2.7.14"
  }
 },
 "nbformat": 4,
 "nbformat_minor": 2
}
