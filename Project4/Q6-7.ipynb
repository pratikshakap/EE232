{
 "cells": [
  {
   "cell_type": "code",
   "execution_count": null,
   "metadata": {
    "collapsed": true
   },
   "outputs": [],
   "source": [
    "#Q7 Use the Fast Greedy community detection algorithm to find the communities in the movie network. Pick 10 communities and \n",
    "#for each community plot the distribution of the genres of the movies in the community."
   ]
  },
  {
   "cell_type": "code",
   "execution_count": 1,
   "metadata": {
    "scrolled": true
   },
   "outputs": [
    {
     "name": "stderr",
     "output_type": "stream",
     "text": [
      "\n",
      "Attaching package: 'igraph'\n",
      "\n",
      "The following objects are masked from 'package:stats':\n",
      "\n",
      "    decompose, spectrum\n",
      "\n",
      "The following object is masked from 'package:base':\n",
      "\n",
      "    union\n",
      "\n"
     ]
    }
   ],
   "source": [
    "library(igraph)"
   ]
  },
  {
   "cell_type": "code",
   "execution_count": 2,
   "metadata": {
    "collapsed": true
   },
   "outputs": [],
   "source": [
    "#Load Fastgreedy Object\n",
    "load(\"fg1.RData\")\n"
   ]
  },
  {
   "cell_type": "code",
   "execution_count": 3,
   "metadata": {
    "collapsed": true
   },
   "outputs": [],
   "source": [
    "fg=fg1"
   ]
  },
  {
   "cell_type": "code",
   "execution_count": 4,
   "metadata": {
    "collapsed": true
   },
   "outputs": [],
   "source": [
    "load(\"g.RData\")"
   ]
  },
  {
   "cell_type": "code",
   "execution_count": 5,
   "metadata": {},
   "outputs": [
    {
     "data": {
      "text/html": [
       "197377"
      ],
      "text/latex": [
       "197377"
      ],
      "text/markdown": [
       "197377"
      ],
      "text/plain": [
       "[1] 197377"
      ]
     },
     "metadata": {},
     "output_type": "display_data"
    }
   ],
   "source": [
    "vcount(g)"
   ]
  },
  {
   "cell_type": "code",
   "execution_count": 6,
   "metadata": {},
   "outputs": [
    {
     "data": {
      "text/html": [
       "65933286"
      ],
      "text/latex": [
       "65933286"
      ],
      "text/markdown": [
       "65933286"
      ],
      "text/plain": [
       "[1] 65933286"
      ]
     },
     "metadata": {},
     "output_type": "display_data"
    }
   ],
   "source": [
    "ecount(g)"
   ]
  },
  {
   "cell_type": "code",
   "execution_count": 7,
   "metadata": {},
   "outputs": [
    {
     "data": {
      "image/png": "[encoded data removed]",
      "text/plain": [
       "Plot with title \"Degree distribution \""
      ]
     },
     "metadata": {},
     "output_type": "display_data"
    }
   ],
   "source": [
    "#Q6 plot the degree distribution of the network\n",
    "degreevec<-degree(g)\n",
    "hist(degreevec, col=\"blue\",main=\"Degree distribution \",xlab=\"Degree\",ylab=\"Frequency\")"
   ]
  },
  {
   "cell_type": "code",
   "execution_count": 4,
   "metadata": {
    "collapsed": true
   },
   "outputs": [],
   "source": [
    "cmsize <- sizes(fg1)"
   ]
  },
  {
   "cell_type": "code",
   "execution_count": 5,
   "metadata": {},
   "outputs": [
    {
     "data": {
      "text/plain": [
       "Community sizes\n",
       "    1     2     3     4     5     6     7     8     9    10    11    12    13 \n",
       " 4543 36140 34796 40489  7170 12494  6146  8955  9294  5087  6040  3041   779 \n",
       "   14    15    16    17    18    19    20    21    22    23    24    25    26 \n",
       " 5858  2087  1479  5885  3997  1411   124    21   644    19    12   429   379 \n",
       "   27    28    29    30    31 \n",
       "   14    17    13    13     1 "
      ]
     },
     "metadata": {},
     "output_type": "display_data"
    }
   ],
   "source": [
    "cmsize #31, 21, 20, 13, 15, 10, 8, 6, 3, 4"
   ]
  },
  {
   "cell_type": "code",
   "execution_count": 6,
   "metadata": {},
   "outputs": [
    {
     "data": {
      "text/plain": [
       "Community sizes\n",
       "   31    24    29    30    27    28    23    21    20    26    25    22    13 \n",
       "    1    12    13    13    14    17    19    21   124   379   429   644   779 \n",
       "   19    16    15    12    18     1    10    14    17    11     7     5     8 \n",
       " 1411  1479  2087  3041  3997  4543  5087  5858  5885  6040  6146  7170  8955 \n",
       "    9     6     3     2     4 \n",
       " 9294 12494 34796 36140 40489 "
      ]
     },
     "metadata": {},
     "output_type": "display_data"
    }
   ],
   "source": [
    "sort(cmsize)"
   ]
  },
  {
   "cell_type": "code",
   "execution_count": 7,
   "metadata": {},
   "outputs": [
    {
     "data": {
      "image/png": "[encoded data removed]",
      "text/plain": [
       "Plot with title \"Community Sizes\""
      ]
     },
     "metadata": {},
     "output_type": "display_data"
    }
   ],
   "source": [
    "library(repr)\n",
    "\n",
    "options(repr.plot.width=6,repr.plot.height=6)\n",
    "barplot(cmsize,main=\"Community Sizes\",ylab=\"Community Sizes\",names.arg=1:length(cmsize))"
   ]
  },
  {
   "cell_type": "code",
   "execution_count": 9,
   "metadata": {},
   "outputs": [],
   "source": [
    "library(data.table)\n",
    "movie_genre = fread(\"movie_genre_map.txt\", sep = \"\\t\", header = FALSE)"
   ]
  },
  {
   "cell_type": "code",
   "execution_count": 10,
   "metadata": {},
   "outputs": [
    {
     "data": {
      "text/html": [
       "<table>\n",
       "<thead><tr><th scope=col>V1</th><th scope=col>V2</th></tr></thead>\n",
       "<tbody>\n",
       "\t<tr><td>185520 </td><td>Romance</td></tr>\n",
       "\t<tr><td>136449 </td><td>Drama  </td></tr>\n",
       "\t<tr><td>172809 </td><td>Short  </td></tr>\n",
       "\t<tr><td> 38195 </td><td>Romance</td></tr>\n",
       "\t<tr><td>174356 </td><td>Short  </td></tr>\n",
       "\t<tr><td> 87043 </td><td>Musical</td></tr>\n",
       "</tbody>\n",
       "</table>\n"
      ],
      "text/latex": [
       "\\begin{tabular}{r|ll}\n",
       " V1 & V2\\\\\n",
       "\\hline\n",
       "\t 185520  & Romance\\\\\n",
       "\t 136449  & Drama  \\\\\n",
       "\t 172809  & Short  \\\\\n",
       "\t  38195  & Romance\\\\\n",
       "\t 174356  & Short  \\\\\n",
       "\t  87043  & Musical\\\\\n",
       "\\end{tabular}\n"
      ],
      "text/markdown": [
       "\n",
       "V1 | V2 | \n",
       "|---|---|---|---|---|---|\n",
       "| 185520  | Romance | \n",
       "| 136449  | Drama   | \n",
       "| 172809  | Short   | \n",
       "|  38195  | Romance | \n",
       "| 174356  | Short   | \n",
       "|  87043  | Musical | \n",
       "\n",
       "\n"
      ],
      "text/plain": [
       "  V1     V2     \n",
       "1 185520 Romance\n",
       "2 136449 Drama  \n",
       "3 172809 Short  \n",
       "4  38195 Romance\n",
       "5 174356 Short  \n",
       "6  87043 Musical"
      ]
     },
     "metadata": {},
     "output_type": "display_data"
    }
   ],
   "source": [
    "head(movie_genre)"
   ]
  },
  {
   "cell_type": "code",
   "execution_count": 11,
   "metadata": {
    "collapsed": true
   },
   "outputs": [],
   "source": [
    "setkey(movie_genre, V1)"
   ]
  },
  {
   "cell_type": "code",
   "execution_count": 18,
   "metadata": {
    "collapsed": true
   },
   "outputs": [],
   "source": [
    "genre_list <-sort(unique(movie_genre$V2))"
   ]
  },
  {
   "cell_type": "code",
   "execution_count": 19,
   "metadata": {},
   "outputs": [
    {
     "data": {
      "text/html": [
       "<ol class=list-inline>\n",
       "\t<li>'Action'</li>\n",
       "\t<li>'Adult'</li>\n",
       "\t<li>'Adventure'</li>\n",
       "\t<li>'Animation'</li>\n",
       "\t<li>'Biography'</li>\n",
       "\t<li>'Comedy'</li>\n",
       "\t<li>'Crime'</li>\n",
       "\t<li>'Documentary'</li>\n",
       "\t<li>'Drama'</li>\n",
       "\t<li>'Family'</li>\n",
       "\t<li>'Fantasy'</li>\n",
       "\t<li>'Film-Noir'</li>\n",
       "\t<li>'Game-Show'</li>\n",
       "\t<li>'History'</li>\n",
       "\t<li>'Horror'</li>\n",
       "\t<li>'Music'</li>\n",
       "\t<li>'Musical'</li>\n",
       "\t<li>'Mystery'</li>\n",
       "\t<li>'News'</li>\n",
       "\t<li>'Reality-TV'</li>\n",
       "\t<li>'Romance'</li>\n",
       "\t<li>'Sci-Fi'</li>\n",
       "\t<li>'Short'</li>\n",
       "\t<li>'Sport'</li>\n",
       "\t<li>'Talk-Show'</li>\n",
       "\t<li>'Thriller'</li>\n",
       "\t<li>'War'</li>\n",
       "\t<li>'Western'</li>\n",
       "</ol>\n"
      ],
      "text/latex": [
       "\\begin{enumerate*}\n",
       "\\item 'Action'\n",
       "\\item 'Adult'\n",
       "\\item 'Adventure'\n",
       "\\item 'Animation'\n",
       "\\item 'Biography'\n",
       "\\item 'Comedy'\n",
       "\\item 'Crime'\n",
       "\\item 'Documentary'\n",
       "\\item 'Drama'\n",
       "\\item 'Family'\n",
       "\\item 'Fantasy'\n",
       "\\item 'Film-Noir'\n",
       "\\item 'Game-Show'\n",
       "\\item 'History'\n",
       "\\item 'Horror'\n",
       "\\item 'Music'\n",
       "\\item 'Musical'\n",
       "\\item 'Mystery'\n",
       "\\item 'News'\n",
       "\\item 'Reality-TV'\n",
       "\\item 'Romance'\n",
       "\\item 'Sci-Fi'\n",
       "\\item 'Short'\n",
       "\\item 'Sport'\n",
       "\\item 'Talk-Show'\n",
       "\\item 'Thriller'\n",
       "\\item 'War'\n",
       "\\item 'Western'\n",
       "\\end{enumerate*}\n"
      ],
      "text/markdown": [
       "1. 'Action'\n",
       "2. 'Adult'\n",
       "3. 'Adventure'\n",
       "4. 'Animation'\n",
       "5. 'Biography'\n",
       "6. 'Comedy'\n",
       "7. 'Crime'\n",
       "8. 'Documentary'\n",
       "9. 'Drama'\n",
       "10. 'Family'\n",
       "11. 'Fantasy'\n",
       "12. 'Film-Noir'\n",
       "13. 'Game-Show'\n",
       "14. 'History'\n",
       "15. 'Horror'\n",
       "16. 'Music'\n",
       "17. 'Musical'\n",
       "18. 'Mystery'\n",
       "19. 'News'\n",
       "20. 'Reality-TV'\n",
       "21. 'Romance'\n",
       "22. 'Sci-Fi'\n",
       "23. 'Short'\n",
       "24. 'Sport'\n",
       "25. 'Talk-Show'\n",
       "26. 'Thriller'\n",
       "27. 'War'\n",
       "28. 'Western'\n",
       "\n",
       "\n"
      ],
      "text/plain": [
       " [1] \"Action\"      \"Adult\"       \"Adventure\"   \"Animation\"   \"Biography\"  \n",
       " [6] \"Comedy\"      \"Crime\"       \"Documentary\" \"Drama\"       \"Family\"     \n",
       "[11] \"Fantasy\"     \"Film-Noir\"   \"Game-Show\"   \"History\"     \"Horror\"     \n",
       "[16] \"Music\"       \"Musical\"     \"Mystery\"     \"News\"        \"Reality-TV\" \n",
       "[21] \"Romance\"     \"Sci-Fi\"      \"Short\"       \"Sport\"       \"Talk-Show\"  \n",
       "[26] \"Thriller\"    \"War\"         \"Western\"    "
      ]
     },
     "metadata": {},
     "output_type": "display_data"
    }
   ],
   "source": [
    "genre_list"
   ]
  },
  {
   "cell_type": "code",
   "execution_count": 24,
   "metadata": {
    "collapsed": true
   },
   "outputs": [],
   "source": [
    "library(repr)\n",
    "options(repr.plot.width=5,repr.plot.height=5)"
   ]
  },
  {
   "cell_type": "code",
   "execution_count": 16,
   "metadata": {
    "collapsed": true
   },
   "outputs": [],
   "source": [
    "comm=strtoi(fg[[30]])"
   ]
  },
  {
   "cell_type": "code",
   "execution_count": 17,
   "metadata": {},
   "outputs": [
    {
     "data": {
      "text/html": [
       "<ol class=list-inline>\n",
       "\t<li>431</li>\n",
       "\t<li>48206</li>\n",
       "\t<li>31587</li>\n",
       "\t<li>8274</li>\n",
       "\t<li>132345</li>\n",
       "\t<li>175148</li>\n",
       "\t<li>90061</li>\n",
       "\t<li>187991</li>\n",
       "\t<li>148813</li>\n",
       "\t<li>112706</li>\n",
       "\t<li>110094</li>\n",
       "\t<li>24320</li>\n",
       "\t<li>99326</li>\n",
       "</ol>\n"
      ],
      "text/latex": [
       "\\begin{enumerate*}\n",
       "\\item 431\n",
       "\\item 48206\n",
       "\\item 31587\n",
       "\\item 8274\n",
       "\\item 132345\n",
       "\\item 175148\n",
       "\\item 90061\n",
       "\\item 187991\n",
       "\\item 148813\n",
       "\\item 112706\n",
       "\\item 110094\n",
       "\\item 24320\n",
       "\\item 99326\n",
       "\\end{enumerate*}\n"
      ],
      "text/markdown": [
       "1. 431\n",
       "2. 48206\n",
       "3. 31587\n",
       "4. 8274\n",
       "5. 132345\n",
       "6. 175148\n",
       "7. 90061\n",
       "8. 187991\n",
       "9. 148813\n",
       "10. 112706\n",
       "11. 110094\n",
       "12. 24320\n",
       "13. 99326\n",
       "\n",
       "\n"
      ],
      "text/plain": [
       " [1]    431  48206  31587   8274 132345 175148  90061 187991 148813 112706\n",
       "[11] 110094  24320  99326"
      ]
     },
     "metadata": {},
     "output_type": "display_data"
    }
   ],
   "source": [
    "comm"
   ]
  },
  {
   "cell_type": "code",
   "execution_count": 21,
   "metadata": {},
   "outputs": [],
   "source": [
    "comm=strtoi(fg[[30]])\n",
    "element <- movie_genre[movie_genre$V1 %in% comm]\n"
   ]
  },
  {
   "cell_type": "code",
   "execution_count": 22,
   "metadata": {},
   "outputs": [
    {
     "data": {
      "text/html": [
       "<table>\n",
       "<thead><tr><th scope=col>V1</th><th scope=col>V2</th></tr></thead>\n",
       "<tbody>\n",
       "\t<tr><td>   431  </td><td>Thriller</td></tr>\n",
       "\t<tr><td>  8274  </td><td>Thriller</td></tr>\n",
       "\t<tr><td> 24320  </td><td>Thriller</td></tr>\n",
       "\t<tr><td> 31587  </td><td>Thriller</td></tr>\n",
       "\t<tr><td> 48206  </td><td>Thriller</td></tr>\n",
       "\t<tr><td> 90061  </td><td>Thriller</td></tr>\n",
       "\t<tr><td> 99326  </td><td>Short   </td></tr>\n",
       "\t<tr><td>110094  </td><td>Thriller</td></tr>\n",
       "\t<tr><td>112706  </td><td>Thriller</td></tr>\n",
       "\t<tr><td>132345  </td><td>Thriller</td></tr>\n",
       "\t<tr><td>148813  </td><td>Short   </td></tr>\n",
       "\t<tr><td>175148  </td><td>Sport   </td></tr>\n",
       "\t<tr><td>187991  </td><td>Thriller</td></tr>\n",
       "</tbody>\n",
       "</table>\n"
      ],
      "text/latex": [
       "\\begin{tabular}{r|ll}\n",
       " V1 & V2\\\\\n",
       "\\hline\n",
       "\t    431   & Thriller\\\\\n",
       "\t   8274   & Thriller\\\\\n",
       "\t  24320   & Thriller\\\\\n",
       "\t  31587   & Thriller\\\\\n",
       "\t  48206   & Thriller\\\\\n",
       "\t  90061   & Thriller\\\\\n",
       "\t  99326   & Short   \\\\\n",
       "\t 110094   & Thriller\\\\\n",
       "\t 112706   & Thriller\\\\\n",
       "\t 132345   & Thriller\\\\\n",
       "\t 148813   & Short   \\\\\n",
       "\t 175148   & Sport   \\\\\n",
       "\t 187991   & Thriller\\\\\n",
       "\\end{tabular}\n"
      ],
      "text/markdown": [
       "\n",
       "V1 | V2 | \n",
       "|---|---|---|---|---|---|---|---|---|---|---|---|---|\n",
       "|    431   | Thriller | \n",
       "|   8274   | Thriller | \n",
       "|  24320   | Thriller | \n",
       "|  31587   | Thriller | \n",
       "|  48206   | Thriller | \n",
       "|  90061   | Thriller | \n",
       "|  99326   | Short    | \n",
       "| 110094   | Thriller | \n",
       "| 112706   | Thriller | \n",
       "| 132345   | Thriller | \n",
       "| 148813   | Short    | \n",
       "| 175148   | Sport    | \n",
       "| 187991   | Thriller | \n",
       "\n",
       "\n"
      ],
      "text/plain": [
       "   V1     V2      \n",
       "1     431 Thriller\n",
       "2    8274 Thriller\n",
       "3   24320 Thriller\n",
       "4   31587 Thriller\n",
       "5   48206 Thriller\n",
       "6   90061 Thriller\n",
       "7   99326 Short   \n",
       "8  110094 Thriller\n",
       "9  112706 Thriller\n",
       "10 132345 Thriller\n",
       "11 148813 Short   \n",
       "12 175148 Sport   \n",
       "13 187991 Thriller"
      ]
     },
     "metadata": {},
     "output_type": "display_data"
    }
   ],
   "source": [
    "element"
   ]
  },
  {
   "cell_type": "code",
   "execution_count": 26,
   "metadata": {},
   "outputs": [
    {
     "name": "stderr",
     "output_type": "stream",
     "text": [
      "Warning message in title(xlab = \"movie_genre\", mgp = c(5, 1, 0), family = \"Calibri Light\", :\n",
      "\"font family not found in Windows font database\""
     ]
    },
    {
     "data": {
      "image/png": "[encoded data removed]",
      "text/plain": [
       "Plot with title \"Plot for Community 30\""
      ]
     },
     "metadata": {},
     "output_type": "display_data"
    }
   ],
   "source": [
    "comm=strtoi(fg[[30]])\n",
    "d ={}\n",
    "d[genre_list]<-as.integer(0)\n",
    "    #f=strtoi(unlist(comm))\n",
    "    element <- movie_genre[movie_genre$V1 %in% comm]\n",
    "    \n",
    "\n",
    "    for (j in 1:nrow(element)){\n",
    "    if(!(is.na(element[j]$V2))){\n",
    "        \n",
    "\n",
    "    d[element[j]$V2]<-d[element[j]$V2]+as.integer(1)   \n",
    "    \n",
    "    \n",
    "    } \n",
    "    }  \n",
    "#dev.on()\n",
    "par(mar=c(8,8,2,2),cex.axis=0.7, las=2)\n",
    " #png(file=paste(cy,\"png\",sep=\".\"))\n",
    "plot(d, xaxt=\"n\",xlab=\"\", ylab=\"degree\", main=\"Plot for Community 30\")\n",
    "axis(side = 1,at <-c(1,2,3,4,5,6,7,8,9,10,11,12,13,14,15,16,17,18,19,20,21,22,23,24,25,26,27,28), labels = genre_list)\n",
    "lines(d)\n",
    "title(xlab=\"movie_genre\", mgp=c(5,1,0), family=\"Calibri Light\",cex.lab=1.2)\n"
   ]
  },
  {
   "cell_type": "code",
   "execution_count": 28,
   "metadata": {},
   "outputs": [
    {
     "data": {
      "text/html": [
       "<table>\n",
       "<thead><tr><th scope=col>V1</th><th scope=col>V2</th></tr></thead>\n",
       "<tbody>\n",
       "\t<tr><td> 7314    </td><td>Drama    </td></tr>\n",
       "\t<tr><td>13175    </td><td>Musical  </td></tr>\n",
       "\t<tr><td>13487    </td><td>Drama    </td></tr>\n",
       "\t<tr><td>14397    </td><td>Thriller </td></tr>\n",
       "\t<tr><td>14984    </td><td>Musical  </td></tr>\n",
       "\t<tr><td>16607    </td><td>Action   </td></tr>\n",
       "\t<tr><td>17688    </td><td>Drama    </td></tr>\n",
       "\t<tr><td>17799    </td><td>Musical  </td></tr>\n",
       "\t<tr><td>24194    </td><td>Romance  </td></tr>\n",
       "\t<tr><td>26511    </td><td>Crime    </td></tr>\n",
       "\t<tr><td>26660    </td><td>Musical  </td></tr>\n",
       "\t<tr><td>27001    </td><td>Romance  </td></tr>\n",
       "\t<tr><td>27401    </td><td>Thriller </td></tr>\n",
       "\t<tr><td>31054    </td><td>Drama    </td></tr>\n",
       "\t<tr><td>32832    </td><td>Musical  </td></tr>\n",
       "\t<tr><td>33194    </td><td>Romance  </td></tr>\n",
       "\t<tr><td>34759    </td><td>Drama    </td></tr>\n",
       "\t<tr><td>36658    </td><td>Drama    </td></tr>\n",
       "\t<tr><td>37395    </td><td>Drama    </td></tr>\n",
       "\t<tr><td>41752    </td><td>Musical  </td></tr>\n",
       "\t<tr><td>41803    </td><td>Biography</td></tr>\n",
       "\t<tr><td>42738    </td><td>Romance  </td></tr>\n",
       "\t<tr><td>44174    </td><td>Romance  </td></tr>\n",
       "\t<tr><td>45654    </td><td>Drama    </td></tr>\n",
       "\t<tr><td>45930    </td><td>Musical  </td></tr>\n",
       "\t<tr><td>46812    </td><td>Drama    </td></tr>\n",
       "\t<tr><td>47150    </td><td>Thriller </td></tr>\n",
       "\t<tr><td>49630    </td><td>Drama    </td></tr>\n",
       "\t<tr><td>49636    </td><td>Musical  </td></tr>\n",
       "\t<tr><td>49642    </td><td>Musical  </td></tr>\n",
       "\t<tr><td>...</td><td>...</td></tr>\n",
       "\t<tr><td>161653 </td><td>Drama  </td></tr>\n",
       "\t<tr><td>163420 </td><td>Musical</td></tr>\n",
       "\t<tr><td>165244 </td><td>Drama  </td></tr>\n",
       "\t<tr><td>166487 </td><td>Comedy </td></tr>\n",
       "\t<tr><td>166702 </td><td>Musical</td></tr>\n",
       "\t<tr><td>167736 </td><td>Drama  </td></tr>\n",
       "\t<tr><td>169437 </td><td>Musical</td></tr>\n",
       "\t<tr><td>169674 </td><td>Musical</td></tr>\n",
       "\t<tr><td>170009 </td><td>Musical</td></tr>\n",
       "\t<tr><td>170064 </td><td>Musical</td></tr>\n",
       "\t<tr><td>171114 </td><td>Drama  </td></tr>\n",
       "\t<tr><td>172291 </td><td>Musical</td></tr>\n",
       "\t<tr><td>172382 </td><td>Musical</td></tr>\n",
       "\t<tr><td>173866 </td><td>Action </td></tr>\n",
       "\t<tr><td>174543 </td><td>Musical</td></tr>\n",
       "\t<tr><td>175992 </td><td>Musical</td></tr>\n",
       "\t<tr><td>176690 </td><td>Musical</td></tr>\n",
       "\t<tr><td>178317 </td><td>Musical</td></tr>\n",
       "\t<tr><td>180339 </td><td>Drama  </td></tr>\n",
       "\t<tr><td>181822 </td><td>Musical</td></tr>\n",
       "\t<tr><td>182680 </td><td>Musical</td></tr>\n",
       "\t<tr><td>184239 </td><td>Musical</td></tr>\n",
       "\t<tr><td>184506 </td><td>Musical</td></tr>\n",
       "\t<tr><td>184772 </td><td>Romance</td></tr>\n",
       "\t<tr><td>185037 </td><td>Musical</td></tr>\n",
       "\t<tr><td>190523 </td><td>Horror </td></tr>\n",
       "\t<tr><td>192299 </td><td>Romance</td></tr>\n",
       "\t<tr><td>192302 </td><td>Comedy </td></tr>\n",
       "\t<tr><td>194677 </td><td>Musical</td></tr>\n",
       "\t<tr><td>194851 </td><td>Musical</td></tr>\n",
       "</tbody>\n",
       "</table>\n"
      ],
      "text/latex": [
       "\\begin{tabular}{r|ll}\n",
       " V1 & V2\\\\\n",
       "\\hline\n",
       "\t  7314     & Drama    \\\\\n",
       "\t 13175     & Musical  \\\\\n",
       "\t 13487     & Drama    \\\\\n",
       "\t 14397     & Thriller \\\\\n",
       "\t 14984     & Musical  \\\\\n",
       "\t 16607     & Action   \\\\\n",
       "\t 17688     & Drama    \\\\\n",
       "\t 17799     & Musical  \\\\\n",
       "\t 24194     & Romance  \\\\\n",
       "\t 26511     & Crime    \\\\\n",
       "\t 26660     & Musical  \\\\\n",
       "\t 27001     & Romance  \\\\\n",
       "\t 27401     & Thriller \\\\\n",
       "\t 31054     & Drama    \\\\\n",
       "\t 32832     & Musical  \\\\\n",
       "\t 33194     & Romance  \\\\\n",
       "\t 34759     & Drama    \\\\\n",
       "\t 36658     & Drama    \\\\\n",
       "\t 37395     & Drama    \\\\\n",
       "\t 41752     & Musical  \\\\\n",
       "\t 41803     & Biography\\\\\n",
       "\t 42738     & Romance  \\\\\n",
       "\t 44174     & Romance  \\\\\n",
       "\t 45654     & Drama    \\\\\n",
       "\t 45930     & Musical  \\\\\n",
       "\t 46812     & Drama    \\\\\n",
       "\t 47150     & Thriller \\\\\n",
       "\t 49630     & Drama    \\\\\n",
       "\t 49636     & Musical  \\\\\n",
       "\t 49642     & Musical  \\\\\n",
       "\t ... & ...\\\\\n",
       "\t 161653  & Drama  \\\\\n",
       "\t 163420  & Musical\\\\\n",
       "\t 165244  & Drama  \\\\\n",
       "\t 166487  & Comedy \\\\\n",
       "\t 166702  & Musical\\\\\n",
       "\t 167736  & Drama  \\\\\n",
       "\t 169437  & Musical\\\\\n",
       "\t 169674  & Musical\\\\\n",
       "\t 170009  & Musical\\\\\n",
       "\t 170064  & Musical\\\\\n",
       "\t 171114  & Drama  \\\\\n",
       "\t 172291  & Musical\\\\\n",
       "\t 172382  & Musical\\\\\n",
       "\t 173866  & Action \\\\\n",
       "\t 174543  & Musical\\\\\n",
       "\t 175992  & Musical\\\\\n",
       "\t 176690  & Musical\\\\\n",
       "\t 178317  & Musical\\\\\n",
       "\t 180339  & Drama  \\\\\n",
       "\t 181822  & Musical\\\\\n",
       "\t 182680  & Musical\\\\\n",
       "\t 184239  & Musical\\\\\n",
       "\t 184506  & Musical\\\\\n",
       "\t 184772  & Romance\\\\\n",
       "\t 185037  & Musical\\\\\n",
       "\t 190523  & Horror \\\\\n",
       "\t 192299  & Romance\\\\\n",
       "\t 192302  & Comedy \\\\\n",
       "\t 194677  & Musical\\\\\n",
       "\t 194851  & Musical\\\\\n",
       "\\end{tabular}\n"
      ],
      "text/markdown": [
       "\n",
       "V1 | V2 | \n",
       "|---|---|---|---|---|---|---|---|---|---|---|---|---|---|---|---|---|---|---|---|---|---|---|---|---|---|---|---|---|---|---|---|---|---|---|---|---|---|---|---|---|---|---|---|---|---|---|---|---|---|---|---|---|---|---|---|---|---|---|---|---|\n",
       "|  7314     | Drama     | \n",
       "| 13175     | Musical   | \n",
       "| 13487     | Drama     | \n",
       "| 14397     | Thriller  | \n",
       "| 14984     | Musical   | \n",
       "| 16607     | Action    | \n",
       "| 17688     | Drama     | \n",
       "| 17799     | Musical   | \n",
       "| 24194     | Romance   | \n",
       "| 26511     | Crime     | \n",
       "| 26660     | Musical   | \n",
       "| 27001     | Romance   | \n",
       "| 27401     | Thriller  | \n",
       "| 31054     | Drama     | \n",
       "| 32832     | Musical   | \n",
       "| 33194     | Romance   | \n",
       "| 34759     | Drama     | \n",
       "| 36658     | Drama     | \n",
       "| 37395     | Drama     | \n",
       "| 41752     | Musical   | \n",
       "| 41803     | Biography | \n",
       "| 42738     | Romance   | \n",
       "| 44174     | Romance   | \n",
       "| 45654     | Drama     | \n",
       "| 45930     | Musical   | \n",
       "| 46812     | Drama     | \n",
       "| 47150     | Thriller  | \n",
       "| 49630     | Drama     | \n",
       "| 49636     | Musical   | \n",
       "| 49642     | Musical   | \n",
       "| ... | ... | \n",
       "| 161653  | Drama   | \n",
       "| 163420  | Musical | \n",
       "| 165244  | Drama   | \n",
       "| 166487  | Comedy  | \n",
       "| 166702  | Musical | \n",
       "| 167736  | Drama   | \n",
       "| 169437  | Musical | \n",
       "| 169674  | Musical | \n",
       "| 170009  | Musical | \n",
       "| 170064  | Musical | \n",
       "| 171114  | Drama   | \n",
       "| 172291  | Musical | \n",
       "| 172382  | Musical | \n",
       "| 173866  | Action  | \n",
       "| 174543  | Musical | \n",
       "| 175992  | Musical | \n",
       "| 176690  | Musical | \n",
       "| 178317  | Musical | \n",
       "| 180339  | Drama   | \n",
       "| 181822  | Musical | \n",
       "| 182680  | Musical | \n",
       "| 184239  | Musical | \n",
       "| 184506  | Musical | \n",
       "| 184772  | Romance | \n",
       "| 185037  | Musical | \n",
       "| 190523  | Horror  | \n",
       "| 192299  | Romance | \n",
       "| 192302  | Comedy  | \n",
       "| 194677  | Musical | \n",
       "| 194851  | Musical | \n",
       "\n",
       "\n"
      ],
      "text/plain": [
       "    V1     V2       \n",
       "1    7314  Drama    \n",
       "2   13175  Musical  \n",
       "3   13487  Drama    \n",
       "4   14397  Thriller \n",
       "5   14984  Musical  \n",
       "6   16607  Action   \n",
       "7   17688  Drama    \n",
       "8   17799  Musical  \n",
       "9   24194  Romance  \n",
       "10  26511  Crime    \n",
       "11  26660  Musical  \n",
       "12  27001  Romance  \n",
       "13  27401  Thriller \n",
       "14  31054  Drama    \n",
       "15  32832  Musical  \n",
       "16  33194  Romance  \n",
       "17  34759  Drama    \n",
       "18  36658  Drama    \n",
       "19  37395  Drama    \n",
       "20  41752  Musical  \n",
       "21  41803  Biography\n",
       "22  42738  Romance  \n",
       "23  44174  Romance  \n",
       "24  45654  Drama    \n",
       "25  45930  Musical  \n",
       "26  46812  Drama    \n",
       "27  47150  Thriller \n",
       "28  49630  Drama    \n",
       "29  49636  Musical  \n",
       "30  49642  Musical  \n",
       "... ...    ...      \n",
       "113 161653 Drama    \n",
       "114 163420 Musical  \n",
       "115 165244 Drama    \n",
       "116 166487 Comedy   \n",
       "117 166702 Musical  \n",
       "118 167736 Drama    \n",
       "119 169437 Musical  \n",
       "120 169674 Musical  \n",
       "121 170009 Musical  \n",
       "122 170064 Musical  \n",
       "123 171114 Drama    \n",
       "124 172291 Musical  \n",
       "125 172382 Musical  \n",
       "126 173866 Action   \n",
       "127 174543 Musical  \n",
       "128 175992 Musical  \n",
       "129 176690 Musical  \n",
       "130 178317 Musical  \n",
       "131 180339 Drama    \n",
       "132 181822 Musical  \n",
       "133 182680 Musical  \n",
       "134 184239 Musical  \n",
       "135 184506 Musical  \n",
       "136 184772 Romance  \n",
       "137 185037 Musical  \n",
       "138 190523 Horror   \n",
       "139 192299 Romance  \n",
       "140 192302 Comedy   \n",
       "141 194677 Musical  \n",
       "142 194851 Musical  "
      ]
     },
     "metadata": {},
     "output_type": "display_data"
    }
   ],
   "source": [
    "comm=strtoi(fg[[26]])\n",
    "element <- movie_genre[movie_genre$V1 %in% comm]\n",
    "element"
   ]
  },
  {
   "cell_type": "code",
   "execution_count": 27,
   "metadata": {},
   "outputs": [
    {
     "name": "stderr",
     "output_type": "stream",
     "text": [
      "Warning message in title(xlab = \"movie_genre\", mgp = c(5, 1, 0), family = \"Calibri Light\", :\n",
      "\"font family not found in Windows font database\""
     ]
    },
    {
     "data": {
      "image/png": "[encoded data removed]",
      "text/plain": [
       "Plot with title \"Plot for Community 26\""
      ]
     },
     "metadata": {},
     "output_type": "display_data"
    }
   ],
   "source": [
    "comm=strtoi(fg[[26]])\n",
    "d ={}\n",
    "d[genre_list]<-as.integer(0)\n",
    "    #f=strtoi(unlist(comm))\n",
    "    element <- movie_genre[movie_genre$V1 %in% comm]\n",
    "    \n",
    "\n",
    "    for (j in 1:nrow(element)){\n",
    "    if(!(is.na(element[j]$V2))){\n",
    "        \n",
    "\n",
    "    d[element[j]$V2]<-d[element[j]$V2]+as.integer(1)   \n",
    "    \n",
    "    \n",
    "    } \n",
    "    }  \n",
    "#dev.on()\n",
    "par(mar=c(8,8,2,2),cex.axis=0.7, las=2)\n",
    " #png(file=paste(cy,\"png\",sep=\".\"))\n",
    "plot(d, xaxt=\"n\",xlab=\"\", ylab=\"degree\", main=\"Plot for Community 26\")\n",
    "axis(side = 1,at <-c(1,2,3,4,5,6,7,8,9,10,11,12,13,14,15,16,17,18,19,20,21,22,23,24,25,26,27,28), labels = genre_list)\n",
    "lines(d)\n",
    "title(xlab=\"movie_genre\", mgp=c(5,1,0), family=\"Calibri Light\",cex.lab=1.2)\n"
   ]
  },
  {
   "cell_type": "code",
   "execution_count": 29,
   "metadata": {},
   "outputs": [
    {
     "name": "stderr",
     "output_type": "stream",
     "text": [
      "Warning message in title(xlab = \"movie_genre\", mgp = c(5, 1, 0), family = \"Calibri Light\", :\n",
      "\"font family not found in Windows font database\""
     ]
    },
    {
     "data": {
      "image/png": "[encoded data removed]",
      "text/plain": [
       "Plot with title \"Plot for Community 24\""
      ]
     },
     "metadata": {},
     "output_type": "display_data"
    }
   ],
   "source": [
    "comm=strtoi(fg[[24]])\n",
    "d ={}\n",
    "d[genre_list]<-as.integer(0)\n",
    "    #f=strtoi(unlist(comm))\n",
    "    element <- movie_genre[movie_genre$V1 %in% comm]\n",
    "    \n",
    "\n",
    "    for (j in 1:nrow(element)){\n",
    "    if(!(is.na(element[j]$V2))){\n",
    "        \n",
    "\n",
    "    d[element[j]$V2]<-d[element[j]$V2]+as.integer(1)   \n",
    "    \n",
    "    \n",
    "    } \n",
    "    }  \n",
    "#dev.on()\n",
    "par(mar=c(8,8,2,2),cex.axis=0.7, las=2)\n",
    " #png(file=paste(cy,\"png\",sep=\".\"))\n",
    "plot(d, xaxt=\"n\",xlab=\"\", ylab=\"degree\", main=\"Plot for Community 24\")\n",
    "axis(side = 1,at <-c(1,2,3,4,5,6,7,8,9,10,11,12,13,14,15,16,17,18,19,20,21,22,23,24,25,26,27,28), labels = genre_list)\n",
    "lines(d)\n",
    "title(xlab=\"movie_genre\", mgp=c(5,1,0), family=\"Calibri Light\",cex.lab=1.2)\n"
   ]
  },
  {
   "cell_type": "code",
   "execution_count": 30,
   "metadata": {},
   "outputs": [
    {
     "name": "stderr",
     "output_type": "stream",
     "text": [
      "Warning message in title(xlab = \"movie_genre\", mgp = c(5, 1, 0), family = \"Calibri Light\", :\n",
      "\"font family not found in Windows font database\""
     ]
    },
    {
     "data": {
      "image/png": "[encoded data removed]",
      "text/plain": [
       "Plot with title \"Plot for Community 13\""
      ]
     },
     "metadata": {},
     "output_type": "display_data"
    }
   ],
   "source": [
    "comm=strtoi(fg[[13]])\n",
    "d ={}\n",
    "d[genre_list]<-as.integer(0)\n",
    "    #f=strtoi(unlist(comm))\n",
    "    element <- movie_genre[movie_genre$V1 %in% comm]\n",
    "    \n",
    "\n",
    "    for (j in 1:nrow(element)){\n",
    "    if(!(is.na(element[j]$V2))){\n",
    "        \n",
    "\n",
    "    d[element[j]$V2]<-d[element[j]$V2]+as.integer(1)   \n",
    "    \n",
    "    \n",
    "    } \n",
    "    }  \n",
    "#dev.on()\n",
    "par(mar=c(8,8,2,2),cex.axis=0.7, las=2)\n",
    " #png(file=paste(cy,\"png\",sep=\".\"))\n",
    "plot(d, xaxt=\"n\",xlab=\"\", ylab=\"degree\", main=\"Plot for Community 13\")\n",
    "axis(side = 1,at <-c(1,2,3,4,5,6,7,8,9,10,11,12,13,14,15,16,17,18,19,20,21,22,23,24,25,26,27,28), labels = genre_list)\n",
    "lines(d)\n",
    "title(xlab=\"movie_genre\", mgp=c(5,1,0), family=\"Calibri Light\",cex.lab=1.2)\n"
   ]
  },
  {
   "cell_type": "code",
   "execution_count": 31,
   "metadata": {},
   "outputs": [
    {
     "name": "stderr",
     "output_type": "stream",
     "text": [
      "Warning message in title(xlab = \"movie_genre\", mgp = c(5, 1, 0), family = \"Calibri Light\", :\n",
      "\"font family not found in Windows font database\""
     ]
    },
    {
     "data": {
      "image/png": "[encoded data removed]",
      "text/plain": [
       "Plot with title \"Plot for Community 15\""
      ]
     },
     "metadata": {},
     "output_type": "display_data"
    }
   ],
   "source": [
    "comm=strtoi(fg[[15]])\n",
    "d ={}\n",
    "d[genre_list]<-as.integer(0)\n",
    "    #f=strtoi(unlist(comm))\n",
    "    element <- movie_genre[movie_genre$V1 %in% comm]\n",
    "    \n",
    "\n",
    "    for (j in 1:nrow(element)){\n",
    "    if(!(is.na(element[j]$V2))){\n",
    "        \n",
    "\n",
    "    d[element[j]$V2]<-d[element[j]$V2]+as.integer(1)   \n",
    "    \n",
    "    \n",
    "    } \n",
    "    }  \n",
    "#dev.on()\n",
    "par(mar=c(8,8,2,2),cex.axis=0.7, las=2)\n",
    " #png(file=paste(cy,\"png\",sep=\".\"))\n",
    "plot(d, xaxt=\"n\",xlab=\"\", ylab=\"degree\", main=\"Plot for Community 15\")\n",
    "axis(side = 1,at <-c(1,2,3,4,5,6,7,8,9,10,11,12,13,14,15,16,17,18,19,20,21,22,23,24,25,26,27,28), labels = genre_list)\n",
    "lines(d)\n",
    "title(xlab=\"movie_genre\", mgp=c(5,1,0), family=\"Calibri Light\",cex.lab=1.2)\n"
   ]
  },
  {
   "cell_type": "code",
   "execution_count": 32,
   "metadata": {},
   "outputs": [
    {
     "name": "stderr",
     "output_type": "stream",
     "text": [
      "Warning message in title(xlab = \"movie_genre\", mgp = c(5, 1, 0), family = \"Calibri Light\", :\n",
      "\"font family not found in Windows font database\""
     ]
    },
    {
     "data": {
      "image/png": "[encoded data removed]",
      "text/plain": [
       "Plot with title \"Plot for Community 1\""
      ]
     },
     "metadata": {},
     "output_type": "display_data"
    }
   ],
   "source": [
    "comm=strtoi(fg[[1]])\n",
    "d ={}\n",
    "d[genre_list]<-as.integer(0)\n",
    "    #f=strtoi(unlist(comm))\n",
    "    element <- movie_genre[movie_genre$V1 %in% comm]\n",
    "    \n",
    "\n",
    "    for (j in 1:nrow(element)){\n",
    "    if(!(is.na(element[j]$V2))){\n",
    "        \n",
    "\n",
    "    d[element[j]$V2]<-d[element[j]$V2]+as.integer(1)   \n",
    "    \n",
    "    \n",
    "    } \n",
    "    }  \n",
    "#dev.on()\n",
    "par(mar=c(8,8,2,2),cex.axis=0.7, las=2)\n",
    " #png(file=paste(cy,\"png\",sep=\".\"))\n",
    "plot(d, xaxt=\"n\",xlab=\"\", ylab=\"degree\", main=\"Plot for Community 1\")\n",
    "axis(side = 1,at <-c(1,2,3,4,5,6,7,8,9,10,11,12,13,14,15,16,17,18,19,20,21,22,23,24,25,26,27,28), labels = genre_list)\n",
    "lines(d)\n",
    "title(xlab=\"movie_genre\", mgp=c(5,1,0), family=\"Calibri Light\",cex.lab=1.2)\n"
   ]
  },
  {
   "cell_type": "code",
   "execution_count": 33,
   "metadata": {},
   "outputs": [
    {
     "name": "stderr",
     "output_type": "stream",
     "text": [
      "Warning message in title(xlab = \"movie_genre\", mgp = c(5, 1, 0), family = \"Calibri Light\", :\n",
      "\"font family not found in Windows font database\""
     ]
    },
    {
     "data": {
      "image/png": "[encoded data removed]",
      "text/plain": [
       "Plot with title \"Plot for Community 17\""
      ]
     },
     "metadata": {},
     "output_type": "display_data"
    }
   ],
   "source": [
    "comm=strtoi(fg[[17]])\n",
    "d ={}\n",
    "d[genre_list]<-as.integer(0)\n",
    "    #f=strtoi(unlist(comm))\n",
    "    element <- movie_genre[movie_genre$V1 %in% comm]\n",
    "    \n",
    "\n",
    "    for (j in 1:nrow(element)){\n",
    "    if(!(is.na(element[j]$V2))){\n",
    "        \n",
    "\n",
    "    d[element[j]$V2]<-d[element[j]$V2]+as.integer(1)   \n",
    "    \n",
    "    \n",
    "    } \n",
    "    }  \n",
    "#dev.on()\n",
    "par(mar=c(8,8,2,2),cex.axis=0.7, las=2)\n",
    " #png(file=paste(cy,\"png\",sep=\".\"))\n",
    "plot(d, xaxt=\"n\",xlab=\"\", ylab=\"degree\", main=\"Plot for Community 17\")\n",
    "axis(side = 1,at <-c(1,2,3,4,5,6,7,8,9,10,11,12,13,14,15,16,17,18,19,20,21,22,23,24,25,26,27,28), labels = genre_list)\n",
    "lines(d)\n",
    "title(xlab=\"movie_genre\", mgp=c(5,1,0), family=\"Calibri Light\",cex.lab=1.2)\n"
   ]
  },
  {
   "cell_type": "code",
   "execution_count": 34,
   "metadata": {},
   "outputs": [
    {
     "name": "stderr",
     "output_type": "stream",
     "text": [
      "Warning message in title(xlab = \"movie_genre\", mgp = c(5, 1, 0), family = \"Calibri Light\", :\n",
      "\"font family not found in Windows font database\""
     ]
    },
    {
     "data": {
      "image/png": "[encoded data removed]",
      "text/plain": [
       "Plot with title \"Plot for Community 10\""
      ]
     },
     "metadata": {},
     "output_type": "display_data"
    }
   ],
   "source": [
    "comm=strtoi(fg[[10]])\n",
    "d ={}\n",
    "d[genre_list]<-as.integer(0)\n",
    "    #f=strtoi(unlist(comm))\n",
    "    element <- movie_genre[movie_genre$V1 %in% comm]\n",
    "    \n",
    "\n",
    "    for (j in 1:nrow(element)){\n",
    "    if(!(is.na(element[j]$V2))){\n",
    "        \n",
    "\n",
    "    d[element[j]$V2]<-d[element[j]$V2]+as.integer(1)   \n",
    "    \n",
    "    \n",
    "    } \n",
    "    }  \n",
    "#dev.on()\n",
    "par(mar=c(8,8,2,2),cex.axis=0.7, las=2)\n",
    " #png(file=paste(cy,\"png\",sep=\".\"))\n",
    "plot(d, xaxt=\"n\",xlab=\"\", ylab=\"degree\", main=\"Plot for Community 10\")\n",
    "axis(side = 1,at <-c(1,2,3,4,5,6,7,8,9,10,11,12,13,14,15,16,17,18,19,20,21,22,23,24,25,26,27,28), labels = genre_list)\n",
    "lines(d)\n",
    "title(xlab=\"movie_genre\", mgp=c(5,1,0), family=\"Calibri Light\",cex.lab=1.2)\n"
   ]
  },
  {
   "cell_type": "code",
   "execution_count": 35,
   "metadata": {},
   "outputs": [
    {
     "name": "stderr",
     "output_type": "stream",
     "text": [
      "Warning message in title(xlab = \"movie_genre\", mgp = c(5, 1, 0), family = \"Calibri Light\", :\n",
      "\"font family not found in Windows font database\""
     ]
    },
    {
     "data": {
      "image/png": "[encoded data removed]",
      "text/plain": [
       "Plot with title \"Plot for Community 8\""
      ]
     },
     "metadata": {},
     "output_type": "display_data"
    }
   ],
   "source": [
    "comm=strtoi(fg[[8]])\n",
    "d ={}\n",
    "d[genre_list]<-as.integer(0)\n",
    "    #f=strtoi(unlist(comm))\n",
    "    element <- movie_genre[movie_genre$V1 %in% comm]\n",
    "    \n",
    "\n",
    "    for (j in 1:nrow(element)){\n",
    "    if(!(is.na(element[j]$V2))){\n",
    "        \n",
    "\n",
    "    d[element[j]$V2]<-d[element[j]$V2]+as.integer(1)   \n",
    "    \n",
    "    \n",
    "    } \n",
    "    }  \n",
    "#dev.on()\n",
    "par(mar=c(8,8,2,2),cex.axis=0.7, las=2)\n",
    " #png(file=paste(cy,\"png\",sep=\".\"))\n",
    "plot(d, xaxt=\"n\",xlab=\"\", ylab=\"degree\", main=\"Plot for Community 8\")\n",
    "axis(side = 1,at <-c(1,2,3,4,5,6,7,8,9,10,11,12,13,14,15,16,17,18,19,20,21,22,23,24,25,26,27,28), labels = genre_list)\n",
    "lines(d)\n",
    "title(xlab=\"movie_genre\", mgp=c(5,1,0), family=\"Calibri Light\",cex.lab=1.2)\n"
   ]
  },
  {
   "cell_type": "code",
   "execution_count": 37,
   "metadata": {},
   "outputs": [
    {
     "name": "stderr",
     "output_type": "stream",
     "text": [
      "Warning message in title(xlab = \"movie_genre\", mgp = c(5, 1, 0), family = \"Calibri Light\", :\n",
      "\"font family not found in Windows font database\""
     ]
    },
    {
     "data": {
      "image/png": "[encoded data removed]",
      "text/plain": [
       "Plot with title \"Plot for Community 4\""
      ]
     },
     "metadata": {},
     "output_type": "display_data"
    }
   ],
   "source": [
    "comm=strtoi(fg[[4]])\n",
    "d ={}\n",
    "d[genre_list]<-as.integer(0)\n",
    "    #f=strtoi(unlist(comm))\n",
    "    element <- movie_genre[movie_genre$V1 %in% comm]\n",
    "    \n",
    "\n",
    "    for (j in 1:nrow(element)){\n",
    "    if(!(is.na(element[j]$V2))){\n",
    "        \n",
    "\n",
    "    d[element[j]$V2]<-d[element[j]$V2]+as.integer(1)   \n",
    "    \n",
    "    \n",
    "    } \n",
    "    }  \n",
    "#dev.on()\n",
    "par(mar=c(8,8,2,2),cex.axis=0.7, las=2)\n",
    " #png(file=paste(cy,\"png\",sep=\".\"))\n",
    "plot(d, xaxt=\"n\",xlab=\"\", ylab=\"degree\", main=\"Plot for Community 4\")\n",
    "axis(side = 1,at <-c(1,2,3,4,5,6,7,8,9,10,11,12,13,14,15,16,17,18,19,20,21,22,23,24,25,26,27,28), labels = genre_list)\n",
    "lines(d)\n",
    "title(xlab=\"movie_genre\", mgp=c(5,1,0), family=\"Calibri Light\",cex.lab=1.2)\n"
   ]
  }
 ],
 "metadata": {
  "kernelspec": {
   "display_name": "R",
   "language": "R",
   "name": "ir"
  },
  "language_info": {
   "codemirror_mode": "r",
   "file_extension": ".r",
   "mimetype": "text/x-r-source",
   "name": "R",
   "pygments_lexer": "r",
   "version": "3.4.4"
  }
 },
 "nbformat": 4,
 "nbformat_minor": 2
}
