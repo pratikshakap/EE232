{
 "cells": [
  {
   "cell_type": "code",
   "execution_count": 2,
   "metadata": {},
   "outputs": [
    {
     "name": "stderr",
     "output_type": "stream",
     "text": [
      "Warning message:\n",
      "\"package 'igraph' was built under R version 3.4.4\"\n",
      "Attaching package: 'igraph'\n",
      "\n",
      "The following objects are masked from 'package:stats':\n",
      "\n",
      "    decompose, spectrum\n",
      "\n",
      "The following object is masked from 'package:base':\n",
      "\n",
      "    union\n",
      "\n",
      "Warning message:\n",
      "\"package 'repr' was built under R version 3.4.4\""
     ]
    }
   ],
   "source": [
    "library('igraph')\n",
    "library('repr')"
   ]
  },
  {
   "cell_type": "code",
   "execution_count": 1,
   "metadata": {},
   "outputs": [],
   "source": [
    "df <-read.delim(\"data/edgelist.txt\",header=FALSE)\n",
    "g <- graph.data.frame(df, directed = TRUE)\n",
    "\n",
    "E(g)$weight <- df[,\"V3\"]"
   ]
  },
  {
   "cell_type": "code",
   "execution_count": 3,
   "metadata": {},
   "outputs": [
    {
     "data": {
      "text/html": [
       "TRUE"
      ],
      "text/latex": [
       "TRUE"
      ],
      "text/markdown": [
       "TRUE"
      ],
      "text/plain": [
       "[1] TRUE"
      ]
     },
     "metadata": {},
     "output_type": "display_data"
    }
   ],
   "source": [
    "is_weighted(g)"
   ]
  },
  {
   "cell_type": "code",
   "execution_count": 3,
   "metadata": {},
   "outputs": [
    {
     "data": {
      "image/png": "[encoded data removed]",
      "text/plain": [
       "Plot with title \"In-Degree distribution of the network\""
      ]
     },
     "metadata": {},
     "output_type": "display_data"
    }
   ],
   "source": [
    "deg <- degree.distribution(g,mode=\"in\")\n",
    "options(repr.plot.width=6,repr.plot.height=5)\n",
    "plot(deg,main=\"In-Degree distribution of the network\",xlab=\"In-Degree\",ylab=\"Frequency\")"
   ]
  },
  {
   "cell_type": "code",
   "execution_count": 4,
   "metadata": {},
   "outputs": [
    {
     "data": {
      "text/html": [
       "113050"
      ],
      "text/latex": [
       "113050"
      ],
      "text/markdown": [
       "113050"
      ],
      "text/plain": [
       "[1] 113050"
      ]
     },
     "metadata": {},
     "output_type": "display_data"
    }
   ],
   "source": [
    "vcount(g)"
   ]
  },
  {
   "cell_type": "code",
   "execution_count": 5,
   "metadata": {},
   "outputs": [
    {
     "data": {
      "text/html": [
       "35479418"
      ],
      "text/latex": [
       "35479418"
      ],
      "text/markdown": [
       "35479418"
      ],
      "text/plain": [
       "[1] 35479418"
      ]
     },
     "metadata": {},
     "output_type": "display_data"
    }
   ],
   "source": [
    "ecount(g)"
   ]
  },
  {
   "cell_type": "code",
   "execution_count": 23,
   "metadata": {},
   "outputs": [
    {
     "data": {
      "text/html": [
       "<ol class=list-inline>\n",
       "\t<li>'Cruise, Tom'</li>\n",
       "\t<li>'Watson, Emma (II)'</li>\n",
       "\t<li>'Clooney, George'</li>\n",
       "\t<li>'Hanks, Tom'</li>\n",
       "\t<li>'Johnson, Dwayne (I)'</li>\n",
       "\t<li>'Depp, Johnny'</li>\n",
       "\t<li>'Smith, Will (I)'</li>\n",
       "\t<li>'Streep, Meryl'</li>\n",
       "\t<li>'DiCaprio, Leonardo'</li>\n",
       "\t<li>'Pitt, Brad'</li>\n",
       "</ol>\n"
      ],
      "text/latex": [
       "\\begin{enumerate*}\n",
       "\\item 'Cruise, Tom'\n",
       "\\item 'Watson, Emma (II)'\n",
       "\\item 'Clooney, George'\n",
       "\\item 'Hanks, Tom'\n",
       "\\item 'Johnson, Dwayne (I)'\n",
       "\\item 'Depp, Johnny'\n",
       "\\item 'Smith, Will (I)'\n",
       "\\item 'Streep, Meryl'\n",
       "\\item 'DiCaprio, Leonardo'\n",
       "\\item 'Pitt, Brad'\n",
       "\\end{enumerate*}\n"
      ],
      "text/markdown": [
       "1. 'Cruise, Tom'\n",
       "2. 'Watson, Emma (II)'\n",
       "3. 'Clooney, George'\n",
       "4. 'Hanks, Tom'\n",
       "5. 'Johnson, Dwayne (I)'\n",
       "6. 'Depp, Johnny'\n",
       "7. 'Smith, Will (I)'\n",
       "8. 'Streep, Meryl'\n",
       "9. 'DiCaprio, Leonardo'\n",
       "10. 'Pitt, Brad'\n",
       "\n",
       "\n"
      ],
      "text/plain": [
       " [1] \"Cruise, Tom\"         \"Watson, Emma (II)\"   \"Clooney, George\"    \n",
       " [4] \"Hanks, Tom\"          \"Johnson, Dwayne (I)\" \"Depp, Johnny\"       \n",
       " [7] \"Smith, Will (I)\"     \"Streep, Meryl\"       \"DiCaprio, Leonardo\" \n",
       "[10] \"Pitt, Brad\"         "
      ]
     },
     "metadata": {},
     "output_type": "display_data"
    }
   ],
   "source": [
    "vlist3 = c(\"Cruise, Tom\", \"Watson, Emma (II)\", \"Clooney, George\", \"Hanks, Tom\", \n",
    "         \"Johnson, Dwayne (I)\", \"Depp, Johnny\", \"Smith, Will (I)\", \"Streep, Meryl\",\n",
    "         \"DiCaprio, Leonardo\", \"Pitt, Brad\")\n",
    "vlist3"
   ]
  },
  {
   "cell_type": "code",
   "execution_count": 40,
   "metadata": {},
   "outputs": [
    {
     "data": {
      "text/html": [
       "<table>\n",
       "<thead><tr><th scope=col>V1</th><th scope=col>V2</th><th scope=col>V3</th></tr></thead>\n",
       "<tbody>\n",
       "\t<tr><td>Mielke, Karsten     </td><td>Sellien, Rainer     </td><td>0.090909            </td></tr>\n",
       "\t<tr><td>Mielke, Karsten     </td><td>Assor, Adolfo (I)   </td><td>0.090909            </td></tr>\n",
       "\t<tr><td>Mielke, Karsten     </td><td>Marti, Beat         </td><td>0.181818            </td></tr>\n",
       "\t<tr><td>Mielke, Karsten     </td><td>Schofield, David (I)</td><td>0.090909            </td></tr>\n",
       "\t<tr><td>Mielke, Karsten     </td><td>Heynert, Josef      </td><td>0.090909            </td></tr>\n",
       "\t<tr><td>Mielke, Karsten     </td><td>Melville, Johnny    </td><td>0.090909            </td></tr>\n",
       "</tbody>\n",
       "</table>\n"
      ],
      "text/latex": [
       "\\begin{tabular}{r|lll}\n",
       " V1 & V2 & V3\\\\\n",
       "\\hline\n",
       "\t Mielke, Karsten      & Sellien, Rainer      & 0.090909            \\\\\n",
       "\t Mielke, Karsten      & Assor, Adolfo (I)    & 0.090909            \\\\\n",
       "\t Mielke, Karsten      & Marti, Beat          & 0.181818            \\\\\n",
       "\t Mielke, Karsten      & Schofield, David (I) & 0.090909            \\\\\n",
       "\t Mielke, Karsten      & Heynert, Josef       & 0.090909            \\\\\n",
       "\t Mielke, Karsten      & Melville, Johnny     & 0.090909            \\\\\n",
       "\\end{tabular}\n"
      ],
      "text/markdown": [
       "\n",
       "V1 | V2 | V3 | \n",
       "|---|---|---|---|---|---|\n",
       "| Mielke, Karsten      | Sellien, Rainer      | 0.090909             | \n",
       "| Mielke, Karsten      | Assor, Adolfo (I)    | 0.090909             | \n",
       "| Mielke, Karsten      | Marti, Beat          | 0.181818             | \n",
       "| Mielke, Karsten      | Schofield, David (I) | 0.090909             | \n",
       "| Mielke, Karsten      | Heynert, Josef       | 0.090909             | \n",
       "| Mielke, Karsten      | Melville, Johnny     | 0.090909             | \n",
       "\n",
       "\n"
      ],
      "text/plain": [
       "  V1              V2                   V3      \n",
       "1 Mielke, Karsten Sellien, Rainer      0.090909\n",
       "2 Mielke, Karsten Assor, Adolfo (I)    0.090909\n",
       "3 Mielke, Karsten Marti, Beat          0.181818\n",
       "4 Mielke, Karsten Schofield, David (I) 0.090909\n",
       "5 Mielke, Karsten Heynert, Josef       0.090909\n",
       "6 Mielke, Karsten Melville, Johnny     0.090909"
      ]
     },
     "metadata": {},
     "output_type": "display_data"
    }
   ],
   "source": [
    "head(df)"
   ]
  },
  {
   "cell_type": "code",
   "execution_count": 9,
   "metadata": {
    "collapsed": true
   },
   "outputs": [],
   "source": [
    "getpair <- function(df,v){\n",
    "    tempdf = df[df$V1==v,]\n",
    "    maxval = max(tempdf$V3)\n",
    "    maxrow = which(tempdf$V3==maxval)\n",
    "    print(tempdf[maxrow,])\n",
    "}"
   ]
  },
  {
   "cell_type": "code",
   "execution_count": 66,
   "metadata": {},
   "outputs": [
    {
     "name": "stdout",
     "output_type": "stream",
     "text": [
      "                  V1             V2       V3\n",
      "20199438 Cruise, Tom Kidman, Nicole 0.174603\n",
      "                        V1                V2   V3\n",
      "23119732 Watson, Emma (II) Radcliffe, Daniel 0.52\n",
      "                      V1          V2       V3\n",
      "35449186 Clooney, George Damon, Matt 0.119403\n",
      "                V1             V2       V3\n",
      "9282535 Hanks, Tom Allen, Tim (I) 0.101266\n",
      "                         V1                 V2       V3\n",
      "5005285 Johnson, Dwayne (I) Austin, Steve (IV) 0.205128\n",
      "5005546 Johnson, Dwayne (I) Levesque, Paul (I) 0.205128\n",
      "5006046 Johnson, Dwayne (I)      Calaway, Mark 0.205128\n",
      "                   V1                    V2       V3\n",
      "28718179 Depp, Johnny Bonham Carter, Helena 0.081633\n",
      "                      V1              V2       V3\n",
      "23402237 Smith, Will (I) Foster, Darrell 0.122449\n",
      "                    V1               V2       V3\n",
      "34290501 Streep, Meryl Kline, Kevin (I) 0.061856\n",
      "34290837 Streep, Meryl  De Niro, Robert 0.061856\n",
      "                        V1               V2       V3\n",
      "4312180 DiCaprio, Leonardo Scorsese, Martin 0.102041\n",
      "                 V1              V2       V3\n",
      "15447301 Pitt, Brad Clooney, George 0.098592\n"
     ]
    }
   ],
   "source": [
    "for(v in vlist3){\n",
    "    getpair(df,v)\n",
    "}"
   ]
  },
  {
   "cell_type": "code",
   "execution_count": 58,
   "metadata": {},
   "outputs": [
    {
     "data": {
      "text/html": [
       "<dl class=dl-horizontal>\n",
       "\t<dt>Flowers, Bess</dt>\n",
       "\t\t<dd>0.000235127417273817</dd>\n",
       "\t<dt>Tatasciore, Fred</dt>\n",
       "\t\t<dd>0.000198950851951204</dd>\n",
       "\t<dt>Harris, Sam (II)</dt>\n",
       "\t\t<dd>0.000197198531754173</dd>\n",
       "\t<dt>Blum, Steve (IX)</dt>\n",
       "\t\t<dd>0.000195490422381135</dd>\n",
       "\t<dt>Miller, Harold (I)</dt>\n",
       "\t\t<dd>0.000172711657793423</dd>\n",
       "\t<dt>Jeremy, Ron</dt>\n",
       "\t\t<dd>0.000158565529502795</dd>\n",
       "\t<dt>Phelps, Lee (I)</dt>\n",
       "\t\t<dd>0.000157312874458378</dd>\n",
       "\t<dt>Lowenthal, Yuri</dt>\n",
       "\t\t<dd>0.000156728393402905</dd>\n",
       "\t<dt>Downes, Robin Atkin</dt>\n",
       "\t\t<dd>0.000151774259662596</dd>\n",
       "\t<dt>O'Connor, Frank (I)</dt>\n",
       "\t\t<dd>0.00014694850257683</dd>\n",
       "</dl>\n"
      ],
      "text/latex": [
       "\\begin{description*}\n",
       "\\item[Flowers, Bess] 0.000235127417273817\n",
       "\\item[Tatasciore, Fred] 0.000198950851951204\n",
       "\\item[Harris, Sam (II)] 0.000197198531754173\n",
       "\\item[Blum, Steve (IX)] 0.000195490422381135\n",
       "\\item[Miller, Harold (I)] 0.000172711657793423\n",
       "\\item[Jeremy, Ron] 0.000158565529502795\n",
       "\\item[Phelps, Lee (I)] 0.000157312874458378\n",
       "\\item[Lowenthal, Yuri] 0.000156728393402905\n",
       "\\item[Downes, Robin Atkin] 0.000151774259662596\n",
       "\\item[O'Connor, Frank (I)] 0.00014694850257683\n",
       "\\end{description*}\n"
      ],
      "text/markdown": [
       "Flowers, Bess\n",
       ":   0.000235127417273817Tatasciore, Fred\n",
       ":   0.000198950851951204Harris, Sam (II)\n",
       ":   0.000197198531754173Blum, Steve (IX)\n",
       ":   0.000195490422381135Miller, Harold (I)\n",
       ":   0.000172711657793423Jeremy, Ron\n",
       ":   0.000158565529502795Phelps, Lee (I)\n",
       ":   0.000157312874458378Lowenthal, Yuri\n",
       ":   0.000156728393402905Downes, Robin Atkin\n",
       ":   0.000151774259662596O'Connor, Frank (I)\n",
       ":   0.00014694850257683\n",
       "\n"
      ],
      "text/plain": [
       "      Flowers, Bess    Tatasciore, Fred    Harris, Sam (II)    Blum, Steve (IX) \n",
       "       0.0002351274        0.0001989509        0.0001971985        0.0001954904 \n",
       " Miller, Harold (I)         Jeremy, Ron     Phelps, Lee (I)     Lowenthal, Yuri \n",
       "       0.0001727117        0.0001585655        0.0001573129        0.0001567284 \n",
       "Downes, Robin Atkin O'Connor, Frank (I) \n",
       "       0.0001517743        0.0001469485 "
      ]
     },
     "metadata": {},
     "output_type": "display_data"
    }
   ],
   "source": [
    "pr = page_rank(g,directed=TRUE,vids = V(g))\n",
    "sortedPR = sort(pr$vector, decreasing=TRUE, )\n",
    "\n",
    "top10 = sortedPR[1:10]\n",
    "top10"
   ]
  },
  {
   "cell_type": "code",
   "execution_count": 32,
   "metadata": {
    "collapsed": true
   },
   "outputs": [],
   "source": [
    "save.image()"
   ]
  },
  {
   "cell_type": "code",
   "execution_count": 33,
   "metadata": {},
   "outputs": [
    {
     "data": {
      "text/html": [
       "<ol class=list-inline>\n",
       "\t<li>'df'</li>\n",
       "\t<li>'g'</li>\n",
       "\t<li>'pr'</li>\n",
       "\t<li>'sortedPR'</li>\n",
       "</ol>\n"
      ],
      "text/latex": [
       "\\begin{enumerate*}\n",
       "\\item 'df'\n",
       "\\item 'g'\n",
       "\\item 'pr'\n",
       "\\item 'sortedPR'\n",
       "\\end{enumerate*}\n"
      ],
      "text/markdown": [
       "1. 'df'\n",
       "2. 'g'\n",
       "3. 'pr'\n",
       "4. 'sortedPR'\n",
       "\n",
       "\n"
      ],
      "text/plain": [
       "[1] \"df\"       \"g\"        \"pr\"       \"sortedPR\""
      ]
     },
     "metadata": {},
     "output_type": "display_data"
    }
   ],
   "source": [
    "ls()"
   ]
  },
  {
   "cell_type": "code",
   "execution_count": 91,
   "metadata": {},
   "outputs": [
    {
     "data": {
      "text/html": [
       "<ol class=list-inline>\n",
       "\t<li>59416</li>\n",
       "\t<li>44703</li>\n",
       "\t<li>10927</li>\n",
       "\t<li>41503</li>\n",
       "\t<li>21890</li>\n",
       "\t<li>5907</li>\n",
       "\t<li>81883</li>\n",
       "\t<li>82023</li>\n",
       "\t<li>66847</li>\n",
       "\t<li>64385</li>\n",
       "</ol>\n"
      ],
      "text/latex": [
       "\\begin{enumerate*}\n",
       "\\item 59416\n",
       "\\item 44703\n",
       "\\item 10927\n",
       "\\item 41503\n",
       "\\item 21890\n",
       "\\item 5907\n",
       "\\item 81883\n",
       "\\item 82023\n",
       "\\item 66847\n",
       "\\item 64385\n",
       "\\end{enumerate*}\n"
      ],
      "text/markdown": [
       "1. 59416\n",
       "2. 44703\n",
       "3. 10927\n",
       "4. 41503\n",
       "5. 21890\n",
       "6. 5907\n",
       "7. 81883\n",
       "8. 82023\n",
       "9. 66847\n",
       "10. 64385\n",
       "\n",
       "\n"
      ],
      "text/plain": [
       " [1] 59416 44703 10927 41503 21890  5907 81883 82023 66847 64385"
      ]
     },
     "metadata": {},
     "output_type": "display_data"
    }
   ],
   "source": [
    "vlist4 = c()\n",
    "for(i in 1:length(top10)){\n",
    "    vlist4[i] = which(pr$vector==top10[i])\n",
    "}\n",
    "\n",
    "vlist4"
   ]
  },
  {
   "cell_type": "code",
   "execution_count": 92,
   "metadata": {},
   "outputs": [
    {
     "data": {
      "text/html": [
       "<dl class=dl-horizontal>\n",
       "\t<dt>Flowers, Bess</dt>\n",
       "\t\t<dd>7537</dd>\n",
       "\t<dt>Tatasciore, Fred</dt>\n",
       "\t\t<dd>3954</dd>\n",
       "\t<dt>Harris, Sam (II)</dt>\n",
       "\t\t<dd>6960</dd>\n",
       "\t<dt>Blum, Steve (IX)</dt>\n",
       "\t\t<dd>3316</dd>\n",
       "\t<dt>Miller, Harold (I)</dt>\n",
       "\t\t<dd>6587</dd>\n",
       "\t<dt>Jeremy, Ron</dt>\n",
       "\t\t<dd>2905</dd>\n",
       "\t<dt>Phelps, Lee (I)</dt>\n",
       "\t\t<dd>5563</dd>\n",
       "\t<dt>Lowenthal, Yuri</dt>\n",
       "\t\t<dd>2662</dd>\n",
       "\t<dt>Downes, Robin Atkin</dt>\n",
       "\t\t<dd>2953</dd>\n",
       "\t<dt>O'Connor, Frank (I)</dt>\n",
       "\t\t<dd>5502</dd>\n",
       "</dl>\n"
      ],
      "text/latex": [
       "\\begin{description*}\n",
       "\\item[Flowers, Bess] 7537\n",
       "\\item[Tatasciore, Fred] 3954\n",
       "\\item[Harris, Sam (II)] 6960\n",
       "\\item[Blum, Steve (IX)] 3316\n",
       "\\item[Miller, Harold (I)] 6587\n",
       "\\item[Jeremy, Ron] 2905\n",
       "\\item[Phelps, Lee (I)] 5563\n",
       "\\item[Lowenthal, Yuri] 2662\n",
       "\\item[Downes, Robin Atkin] 2953\n",
       "\\item[O'Connor, Frank (I)] 5502\n",
       "\\end{description*}\n"
      ],
      "text/markdown": [
       "Flowers, Bess\n",
       ":   7537Tatasciore, Fred\n",
       ":   3954Harris, Sam (II)\n",
       ":   6960Blum, Steve (IX)\n",
       ":   3316Miller, Harold (I)\n",
       ":   6587Jeremy, Ron\n",
       ":   2905Phelps, Lee (I)\n",
       ":   5563Lowenthal, Yuri\n",
       ":   2662Downes, Robin Atkin\n",
       ":   2953O'Connor, Frank (I)\n",
       ":   5502\n",
       "\n"
      ],
      "text/plain": [
       "      Flowers, Bess    Tatasciore, Fred    Harris, Sam (II)    Blum, Steve (IX) \n",
       "               7537                3954                6960                3316 \n",
       " Miller, Harold (I)         Jeremy, Ron     Phelps, Lee (I)     Lowenthal, Yuri \n",
       "               6587                2905                5563                2662 \n",
       "Downes, Robin Atkin O'Connor, Frank (I) \n",
       "               2953                5502 "
      ]
     },
     "metadata": {},
     "output_type": "display_data"
    }
   ],
   "source": [
    "degree(g,v=vlist4,mode=\"in\")"
   ]
  },
  {
   "cell_type": "code",
   "execution_count": 24,
   "metadata": {},
   "outputs": [
    {
     "name": "stdout",
     "output_type": "stream",
     "text": [
      " Cruise, Tom \n",
      "3.974651e-05 \n",
      "Watson, Emma (II) \n",
      "     1.748531e-05 \n",
      "Clooney, George \n",
      "   4.002942e-05 \n",
      "  Hanks, Tom \n",
      "5.104905e-05 \n",
      "Johnson, Dwayne (I) \n",
      "       4.201889e-05 \n",
      "Depp, Johnny \n",
      "5.381221e-05 \n",
      "Smith, Will (I) \n",
      "   3.201644e-05 \n",
      "Streep, Meryl \n",
      " 3.961076e-05 \n",
      "DiCaprio, Leonardo \n",
      "      3.168002e-05 \n",
      "  Pitt, Brad \n",
      "4.297555e-05 \n"
     ]
    }
   ],
   "source": [
    "for(i in 1:length(vlist3)){\n",
    "    print(pr$vector[vlist3[i]])\n",
    "}"
   ]
  },
  {
   "cell_type": "code",
   "execution_count": 9,
   "metadata": {},
   "outputs": [
    {
     "data": {
      "text/html": [
       "<dl class=dl-horizontal>\n",
       "\t<dt>Cruise, Tom</dt>\n",
       "\t\t<dd>1651</dd>\n",
       "\t<dt>Watson, Emma (II)</dt>\n",
       "\t\t<dd>453</dd>\n",
       "\t<dt>Clooney, George</dt>\n",
       "\t\t<dd>1573</dd>\n",
       "\t<dt>Hanks, Tom</dt>\n",
       "\t\t<dd>2064</dd>\n",
       "\t<dt>Johnson, Dwayne (I)</dt>\n",
       "\t\t<dd>1357</dd>\n",
       "\t<dt>Depp, Johnny</dt>\n",
       "\t\t<dd>2144</dd>\n",
       "\t<dt>Smith, Will (I)</dt>\n",
       "\t\t<dd>1319</dd>\n",
       "\t<dt>Streep, Meryl</dt>\n",
       "\t\t<dd>1594</dd>\n",
       "\t<dt>DiCaprio, Leonardo</dt>\n",
       "\t\t<dd>1301</dd>\n",
       "\t<dt>Pitt, Brad</dt>\n",
       "\t\t<dd>1739</dd>\n",
       "</dl>\n"
      ],
      "text/latex": [
       "\\begin{description*}\n",
       "\\item[Cruise, Tom] 1651\n",
       "\\item[Watson, Emma (II)] 453\n",
       "\\item[Clooney, George] 1573\n",
       "\\item[Hanks, Tom] 2064\n",
       "\\item[Johnson, Dwayne (I)] 1357\n",
       "\\item[Depp, Johnny] 2144\n",
       "\\item[Smith, Will (I)] 1319\n",
       "\\item[Streep, Meryl] 1594\n",
       "\\item[DiCaprio, Leonardo] 1301\n",
       "\\item[Pitt, Brad] 1739\n",
       "\\end{description*}\n"
      ],
      "text/markdown": [
       "Cruise, Tom\n",
       ":   1651Watson, Emma (II)\n",
       ":   453Clooney, George\n",
       ":   1573Hanks, Tom\n",
       ":   2064Johnson, Dwayne (I)\n",
       ":   1357Depp, Johnny\n",
       ":   2144Smith, Will (I)\n",
       ":   1319Streep, Meryl\n",
       ":   1594DiCaprio, Leonardo\n",
       ":   1301Pitt, Brad\n",
       ":   1739\n",
       "\n"
      ],
      "text/plain": [
       "        Cruise, Tom   Watson, Emma (II)     Clooney, George          Hanks, Tom \n",
       "               1651                 453                1573                2064 \n",
       "Johnson, Dwayne (I)        Depp, Johnny     Smith, Will (I)       Streep, Meryl \n",
       "               1357                2144                1319                1594 \n",
       " DiCaprio, Leonardo          Pitt, Brad \n",
       "               1301                1739 "
      ]
     },
     "metadata": {},
     "output_type": "display_data"
    }
   ],
   "source": [
    "degree(g,v=vlist3,mode=\"in\")"
   ]
  },
  {
   "cell_type": "code",
   "execution_count": null,
   "metadata": {
    "collapsed": true
   },
   "outputs": [],
   "source": []
  }
 ],
 "metadata": {
  "kernelspec": {
   "display_name": "R",
   "language": "R",
   "name": "ir"
  },
  "language_info": {
   "codemirror_mode": "r",
   "file_extension": ".r",
   "mimetype": "text/x-r-source",
   "name": "R",
   "pygments_lexer": "r",
   "version": "3.4.1"
  }
 },
 "nbformat": 4,
 "nbformat_minor": 2
}
